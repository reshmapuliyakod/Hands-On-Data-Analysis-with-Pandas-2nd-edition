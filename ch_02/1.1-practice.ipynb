{
 "metadata": {
  "language_info": {
   "codemirror_mode": {
    "name": "ipython",
    "version": 3
   },
   "file_extension": ".py",
   "mimetype": "text/x-python",
   "name": "python",
   "nbconvert_exporter": "python",
   "pygments_lexer": "ipython3",
   "version": "3.7.7"
  },
  "orig_nbformat": 4,
  "kernelspec": {
   "name": "python3",
   "display_name": "Python 3.7.7 64-bit"
  },
  "interpreter": {
   "hash": "6e5674a565dd682393a62ea51be07d3c70a00510cf6c97d5324748a7140005a0"
  }
 },
 "nbformat": 4,
 "nbformat_minor": 2,
 "cells": [
  {
   "cell_type": "code",
   "execution_count": 2,
   "metadata": {},
   "outputs": [],
   "source": [
    "import numpy as np \n",
    "import pandas as pd \n"
   ]
  },
  {
   "source": [
    "Creating the Dataframe"
   ],
   "cell_type": "markdown",
   "metadata": {}
  },
  {
   "cell_type": "code",
   "execution_count": 6,
   "metadata": {},
   "outputs": [
    {
     "output_type": "execute_result",
     "data": {
      "text/plain": [
       "                      time                                  place magType  \\\n",
       "0  2018-10-13 11:10:23.560        262km NW of Ozernovskiy, Russia     mww   \n",
       "1  2018-10-13 04:34:15.580            25km E of Bitung, Indonesia     mww   \n",
       "2  2018-10-13 00:13:46.220              42km WNW of Sola, Vanuatu     mww   \n",
       "3  2018-10-12 21:09:49.240  13km E of Nueva Concepcion, Guatemala     mww   \n",
       "4  2018-10-12 02:52:03.620    128km SE of Kimbe, Papua New Guinea     mww   \n",
       "\n",
       "   mag  alert  tsunami  \n",
       "0  6.7  green        1  \n",
       "1  5.2  green        0  \n",
       "2  5.7  green        0  \n",
       "3  5.7  green        0  \n",
       "4  5.6  green        1  "
      ],
      "text/html": "<div>\n<style scoped>\n    .dataframe tbody tr th:only-of-type {\n        vertical-align: middle;\n    }\n\n    .dataframe tbody tr th {\n        vertical-align: top;\n    }\n\n    .dataframe thead th {\n        text-align: right;\n    }\n</style>\n<table border=\"1\" class=\"dataframe\">\n  <thead>\n    <tr style=\"text-align: right;\">\n      <th></th>\n      <th>time</th>\n      <th>place</th>\n      <th>magType</th>\n      <th>mag</th>\n      <th>alert</th>\n      <th>tsunami</th>\n    </tr>\n  </thead>\n  <tbody>\n    <tr>\n      <th>0</th>\n      <td>2018-10-13 11:10:23.560</td>\n      <td>262km NW of Ozernovskiy, Russia</td>\n      <td>mww</td>\n      <td>6.7</td>\n      <td>green</td>\n      <td>1</td>\n    </tr>\n    <tr>\n      <th>1</th>\n      <td>2018-10-13 04:34:15.580</td>\n      <td>25km E of Bitung, Indonesia</td>\n      <td>mww</td>\n      <td>5.2</td>\n      <td>green</td>\n      <td>0</td>\n    </tr>\n    <tr>\n      <th>2</th>\n      <td>2018-10-13 00:13:46.220</td>\n      <td>42km WNW of Sola, Vanuatu</td>\n      <td>mww</td>\n      <td>5.7</td>\n      <td>green</td>\n      <td>0</td>\n    </tr>\n    <tr>\n      <th>3</th>\n      <td>2018-10-12 21:09:49.240</td>\n      <td>13km E of Nueva Concepcion, Guatemala</td>\n      <td>mww</td>\n      <td>5.7</td>\n      <td>green</td>\n      <td>0</td>\n    </tr>\n    <tr>\n      <th>4</th>\n      <td>2018-10-12 02:52:03.620</td>\n      <td>128km SE of Kimbe, Papua New Guinea</td>\n      <td>mww</td>\n      <td>5.6</td>\n      <td>green</td>\n      <td>1</td>\n    </tr>\n  </tbody>\n</table>\n</div>"
     },
     "metadata": {},
     "execution_count": 6
    }
   ],
   "source": [
    "example_data = pd.read_csv('data\\example_data.csv',delimiter=';')\n",
    "example_data"
   ]
  },
  {
   "cell_type": "code",
   "execution_count": 11,
   "metadata": {},
   "outputs": [
    {
     "output_type": "execute_result",
     "data": {
      "text/plain": [
       "  alert  cdi      code                                             detail  \\\n",
       "0   NaN  NaN  37389218  https://earthquake.usgs.gov/fdsnws/event/1/que...   \n",
       "1   NaN  NaN  37389202  https://earthquake.usgs.gov/fdsnws/event/1/que...   \n",
       "2   NaN  4.4  37389194  https://earthquake.usgs.gov/fdsnws/event/1/que...   \n",
       "3   NaN  NaN  37389186  https://earthquake.usgs.gov/fdsnws/event/1/que...   \n",
       "4   NaN  NaN  73096941  https://earthquake.usgs.gov/fdsnws/event/1/que...   \n",
       "\n",
       "       dmin  felt    gap           ids   mag magType  ...  sources     status  \\\n",
       "0  0.008693   NaN   85.0  ,ci37389218,  1.35      ml  ...     ,ci,  automatic   \n",
       "1  0.020030   NaN   79.0  ,ci37389202,  1.29      ml  ...     ,ci,  automatic   \n",
       "2  0.021370  28.0   21.0  ,ci37389194,  3.42      ml  ...     ,ci,  automatic   \n",
       "3  0.026180   NaN   39.0  ,ci37389186,  0.44      ml  ...     ,ci,  automatic   \n",
       "4  0.077990   NaN  192.0  ,nc73096941,  2.16      md  ...     ,nc,  automatic   \n",
       "\n",
       "            time                          title  tsunami        type  \\\n",
       "0  1539475168010  M 1.4 - 9km NE of Aguanga, CA        0  earthquake   \n",
       "1  1539475129610  M 1.3 - 9km NE of Aguanga, CA        0  earthquake   \n",
       "2  1539475062610  M 3.4 - 8km NE of Aguanga, CA        0  earthquake   \n",
       "3  1539474978070  M 0.4 - 9km NE of Aguanga, CA        0  earthquake   \n",
       "4  1539474716050  M 2.2 - 10km NW of Avenal, CA        0  earthquake   \n",
       "\n",
       "                                               types     tz        updated  \\\n",
       "0         ,geoserve,nearby-cities,origin,phase-data, -480.0  1539475395144   \n",
       "1         ,geoserve,nearby-cities,origin,phase-data, -480.0  1539475253925   \n",
       "2  ,dyfi,focal-mechanism,geoserve,nearby-cities,o... -480.0  1539536756176   \n",
       "3         ,geoserve,nearby-cities,origin,phase-data, -480.0  1539475196167   \n",
       "4  ,geoserve,nearby-cities,origin,phase-data,scit... -480.0  1539477547926   \n",
       "\n",
       "                                                 url  \n",
       "0  https://earthquake.usgs.gov/earthquakes/eventp...  \n",
       "1  https://earthquake.usgs.gov/earthquakes/eventp...  \n",
       "2  https://earthquake.usgs.gov/earthquakes/eventp...  \n",
       "3  https://earthquake.usgs.gov/earthquakes/eventp...  \n",
       "4  https://earthquake.usgs.gov/earthquakes/eventp...  \n",
       "\n",
       "[5 rows x 26 columns]"
      ],
      "text/html": "<div>\n<style scoped>\n    .dataframe tbody tr th:only-of-type {\n        vertical-align: middle;\n    }\n\n    .dataframe tbody tr th {\n        vertical-align: top;\n    }\n\n    .dataframe thead th {\n        text-align: right;\n    }\n</style>\n<table border=\"1\" class=\"dataframe\">\n  <thead>\n    <tr style=\"text-align: right;\">\n      <th></th>\n      <th>alert</th>\n      <th>cdi</th>\n      <th>code</th>\n      <th>detail</th>\n      <th>dmin</th>\n      <th>felt</th>\n      <th>gap</th>\n      <th>ids</th>\n      <th>mag</th>\n      <th>magType</th>\n      <th>...</th>\n      <th>sources</th>\n      <th>status</th>\n      <th>time</th>\n      <th>title</th>\n      <th>tsunami</th>\n      <th>type</th>\n      <th>types</th>\n      <th>tz</th>\n      <th>updated</th>\n      <th>url</th>\n    </tr>\n  </thead>\n  <tbody>\n    <tr>\n      <th>0</th>\n      <td>NaN</td>\n      <td>NaN</td>\n      <td>37389218</td>\n      <td>https://earthquake.usgs.gov/fdsnws/event/1/que...</td>\n      <td>0.008693</td>\n      <td>NaN</td>\n      <td>85.0</td>\n      <td>,ci37389218,</td>\n      <td>1.35</td>\n      <td>ml</td>\n      <td>...</td>\n      <td>,ci,</td>\n      <td>automatic</td>\n      <td>1539475168010</td>\n      <td>M 1.4 - 9km NE of Aguanga, CA</td>\n      <td>0</td>\n      <td>earthquake</td>\n      <td>,geoserve,nearby-cities,origin,phase-data,</td>\n      <td>-480.0</td>\n      <td>1539475395144</td>\n      <td>https://earthquake.usgs.gov/earthquakes/eventp...</td>\n    </tr>\n    <tr>\n      <th>1</th>\n      <td>NaN</td>\n      <td>NaN</td>\n      <td>37389202</td>\n      <td>https://earthquake.usgs.gov/fdsnws/event/1/que...</td>\n      <td>0.020030</td>\n      <td>NaN</td>\n      <td>79.0</td>\n      <td>,ci37389202,</td>\n      <td>1.29</td>\n      <td>ml</td>\n      <td>...</td>\n      <td>,ci,</td>\n      <td>automatic</td>\n      <td>1539475129610</td>\n      <td>M 1.3 - 9km NE of Aguanga, CA</td>\n      <td>0</td>\n      <td>earthquake</td>\n      <td>,geoserve,nearby-cities,origin,phase-data,</td>\n      <td>-480.0</td>\n      <td>1539475253925</td>\n      <td>https://earthquake.usgs.gov/earthquakes/eventp...</td>\n    </tr>\n    <tr>\n      <th>2</th>\n      <td>NaN</td>\n      <td>4.4</td>\n      <td>37389194</td>\n      <td>https://earthquake.usgs.gov/fdsnws/event/1/que...</td>\n      <td>0.021370</td>\n      <td>28.0</td>\n      <td>21.0</td>\n      <td>,ci37389194,</td>\n      <td>3.42</td>\n      <td>ml</td>\n      <td>...</td>\n      <td>,ci,</td>\n      <td>automatic</td>\n      <td>1539475062610</td>\n      <td>M 3.4 - 8km NE of Aguanga, CA</td>\n      <td>0</td>\n      <td>earthquake</td>\n      <td>,dyfi,focal-mechanism,geoserve,nearby-cities,o...</td>\n      <td>-480.0</td>\n      <td>1539536756176</td>\n      <td>https://earthquake.usgs.gov/earthquakes/eventp...</td>\n    </tr>\n    <tr>\n      <th>3</th>\n      <td>NaN</td>\n      <td>NaN</td>\n      <td>37389186</td>\n      <td>https://earthquake.usgs.gov/fdsnws/event/1/que...</td>\n      <td>0.026180</td>\n      <td>NaN</td>\n      <td>39.0</td>\n      <td>,ci37389186,</td>\n      <td>0.44</td>\n      <td>ml</td>\n      <td>...</td>\n      <td>,ci,</td>\n      <td>automatic</td>\n      <td>1539474978070</td>\n      <td>M 0.4 - 9km NE of Aguanga, CA</td>\n      <td>0</td>\n      <td>earthquake</td>\n      <td>,geoserve,nearby-cities,origin,phase-data,</td>\n      <td>-480.0</td>\n      <td>1539475196167</td>\n      <td>https://earthquake.usgs.gov/earthquakes/eventp...</td>\n    </tr>\n    <tr>\n      <th>4</th>\n      <td>NaN</td>\n      <td>NaN</td>\n      <td>73096941</td>\n      <td>https://earthquake.usgs.gov/fdsnws/event/1/que...</td>\n      <td>0.077990</td>\n      <td>NaN</td>\n      <td>192.0</td>\n      <td>,nc73096941,</td>\n      <td>2.16</td>\n      <td>md</td>\n      <td>...</td>\n      <td>,nc,</td>\n      <td>automatic</td>\n      <td>1539474716050</td>\n      <td>M 2.2 - 10km NW of Avenal, CA</td>\n      <td>0</td>\n      <td>earthquake</td>\n      <td>,geoserve,nearby-cities,origin,phase-data,scit...</td>\n      <td>-480.0</td>\n      <td>1539477547926</td>\n      <td>https://earthquake.usgs.gov/earthquakes/eventp...</td>\n    </tr>\n  </tbody>\n</table>\n<p>5 rows × 26 columns</p>\n</div>"
     },
     "metadata": {},
     "execution_count": 11
    }
   ],
   "source": [
    "earthquakes = pd.read_csv('data\\earthquakes.csv')\n",
    "earthquakes.head(5)"
   ]
  },
  {
   "cell_type": "code",
   "execution_count": 13,
   "metadata": {},
   "outputs": [
    {
     "output_type": "execute_result",
     "data": {
      "text/plain": [
       "(9332, 26)"
      ]
     },
     "metadata": {},
     "execution_count": 13
    }
   ],
   "source": [
    "earthquakes.shape"
   ]
  },
  {
   "cell_type": "code",
   "execution_count": 16,
   "metadata": {},
   "outputs": [
    {
     "output_type": "execute_result",
     "data": {
      "text/plain": [
       "Index(['alert', 'cdi', 'code', 'detail', 'dmin', 'felt', 'gap', 'ids', 'mag',\n",
       "       'magType', 'mmi', 'net', 'nst', 'place', 'rms', 'sig', 'sources',\n",
       "       'status', 'time', 'title', 'tsunami', 'type', 'types', 'tz', 'updated',\n",
       "       'url'],\n",
       "      dtype='object')"
      ]
     },
     "metadata": {},
     "execution_count": 16
    }
   ],
   "source": [
    "earthquakes.columns"
   ]
  },
  {
   "cell_type": "code",
   "execution_count": 17,
   "metadata": {},
   "outputs": [
    {
     "output_type": "stream",
     "name": "stdout",
     "text": [
      "<class 'pandas.core.frame.DataFrame'>\nRangeIndex: 9332 entries, 0 to 9331\nData columns (total 26 columns):\n #   Column   Non-Null Count  Dtype  \n---  ------   --------------  -----  \n 0   alert    59 non-null     object \n 1   cdi      329 non-null    float64\n 2   code     9332 non-null   object \n 3   detail   9332 non-null   object \n 4   dmin     6139 non-null   float64\n 5   felt     329 non-null    float64\n 6   gap      6164 non-null   float64\n 7   ids      9332 non-null   object \n 8   mag      9331 non-null   float64\n 9   magType  9331 non-null   object \n 10  mmi      93 non-null     float64\n 11  net      9332 non-null   object \n 12  nst      5364 non-null   float64\n 13  place    9332 non-null   object \n 14  rms      9332 non-null   float64\n 15  sig      9332 non-null   int64  \n 16  sources  9332 non-null   object \n 17  status   9332 non-null   object \n 18  time     9332 non-null   int64  \n 19  title    9332 non-null   object \n 20  tsunami  9332 non-null   int64  \n 21  type     9332 non-null   object \n 22  types    9332 non-null   object \n 23  tz       9331 non-null   float64\n 24  updated  9332 non-null   int64  \n 25  url      9332 non-null   object \ndtypes: float64(9), int64(4), object(13)\nmemory usage: 1.9+ MB\n"
     ]
    }
   ],
   "source": [
    "earthquakes.info()"
   ]
  },
  {
   "cell_type": "code",
   "execution_count": 18,
   "metadata": {},
   "outputs": [
    {
     "output_type": "execute_result",
     "data": {
      "text/plain": [
       "20"
      ]
     },
     "metadata": {},
     "execution_count": 18
    }
   ],
   "source": [
    "pd.get_option('display.max_columns')"
   ]
  },
  {
   "cell_type": "code",
   "execution_count": 21,
   "metadata": {},
   "outputs": [
    {
     "output_type": "execute_result",
     "data": {
      "text/plain": [
       "  alert  cdi      code                                             detail  \\\n",
       "0   NaN  NaN  37389218  https://earthquake.usgs.gov/fdsnws/event/1/que...   \n",
       "1   NaN  NaN  37389202  https://earthquake.usgs.gov/fdsnws/event/1/que...   \n",
       "2   NaN  4.4  37389194  https://earthquake.usgs.gov/fdsnws/event/1/que...   \n",
       "3   NaN  NaN  37389186  https://earthquake.usgs.gov/fdsnws/event/1/que...   \n",
       "4   NaN  NaN  73096941  https://earthquake.usgs.gov/fdsnws/event/1/que...   \n",
       "\n",
       "       dmin  felt    gap           ids   mag magType  mmi net    nst  \\\n",
       "0  0.008693   NaN   85.0  ,ci37389218,  1.35      ml  NaN  ci   26.0   \n",
       "1  0.020030   NaN   79.0  ,ci37389202,  1.29      ml  NaN  ci   20.0   \n",
       "2  0.021370  28.0   21.0  ,ci37389194,  3.42      ml  NaN  ci  111.0   \n",
       "3  0.026180   NaN   39.0  ,ci37389186,  0.44      ml  NaN  ci   26.0   \n",
       "4  0.077990   NaN  192.0  ,nc73096941,  2.16      md  NaN  nc   18.0   \n",
       "\n",
       "                   place   rms  sig sources     status           time  \\\n",
       "0  9km NE of Aguanga, CA  0.19   28    ,ci,  automatic  1539475168010   \n",
       "1  9km NE of Aguanga, CA  0.29   26    ,ci,  automatic  1539475129610   \n",
       "2  8km NE of Aguanga, CA  0.22  192    ,ci,  automatic  1539475062610   \n",
       "3  9km NE of Aguanga, CA  0.17    3    ,ci,  automatic  1539474978070   \n",
       "4  10km NW of Avenal, CA  0.05   72    ,nc,  automatic  1539474716050   \n",
       "\n",
       "                           title  tsunami        type  \\\n",
       "0  M 1.4 - 9km NE of Aguanga, CA        0  earthquake   \n",
       "1  M 1.3 - 9km NE of Aguanga, CA        0  earthquake   \n",
       "2  M 3.4 - 8km NE of Aguanga, CA        0  earthquake   \n",
       "3  M 0.4 - 9km NE of Aguanga, CA        0  earthquake   \n",
       "4  M 2.2 - 10km NW of Avenal, CA        0  earthquake   \n",
       "\n",
       "                                               types     tz        updated  \\\n",
       "0         ,geoserve,nearby-cities,origin,phase-data, -480.0  1539475395144   \n",
       "1         ,geoserve,nearby-cities,origin,phase-data, -480.0  1539475253925   \n",
       "2  ,dyfi,focal-mechanism,geoserve,nearby-cities,o... -480.0  1539536756176   \n",
       "3         ,geoserve,nearby-cities,origin,phase-data, -480.0  1539475196167   \n",
       "4  ,geoserve,nearby-cities,origin,phase-data,scit... -480.0  1539477547926   \n",
       "\n",
       "                                                 url  \n",
       "0  https://earthquake.usgs.gov/earthquakes/eventp...  \n",
       "1  https://earthquake.usgs.gov/earthquakes/eventp...  \n",
       "2  https://earthquake.usgs.gov/earthquakes/eventp...  \n",
       "3  https://earthquake.usgs.gov/earthquakes/eventp...  \n",
       "4  https://earthquake.usgs.gov/earthquakes/eventp...  "
      ],
      "text/html": "<div>\n<style scoped>\n    .dataframe tbody tr th:only-of-type {\n        vertical-align: middle;\n    }\n\n    .dataframe tbody tr th {\n        vertical-align: top;\n    }\n\n    .dataframe thead th {\n        text-align: right;\n    }\n</style>\n<table border=\"1\" class=\"dataframe\">\n  <thead>\n    <tr style=\"text-align: right;\">\n      <th></th>\n      <th>alert</th>\n      <th>cdi</th>\n      <th>code</th>\n      <th>detail</th>\n      <th>dmin</th>\n      <th>felt</th>\n      <th>gap</th>\n      <th>ids</th>\n      <th>mag</th>\n      <th>magType</th>\n      <th>mmi</th>\n      <th>net</th>\n      <th>nst</th>\n      <th>place</th>\n      <th>rms</th>\n      <th>sig</th>\n      <th>sources</th>\n      <th>status</th>\n      <th>time</th>\n      <th>title</th>\n      <th>tsunami</th>\n      <th>type</th>\n      <th>types</th>\n      <th>tz</th>\n      <th>updated</th>\n      <th>url</th>\n    </tr>\n  </thead>\n  <tbody>\n    <tr>\n      <th>0</th>\n      <td>NaN</td>\n      <td>NaN</td>\n      <td>37389218</td>\n      <td>https://earthquake.usgs.gov/fdsnws/event/1/que...</td>\n      <td>0.008693</td>\n      <td>NaN</td>\n      <td>85.0</td>\n      <td>,ci37389218,</td>\n      <td>1.35</td>\n      <td>ml</td>\n      <td>NaN</td>\n      <td>ci</td>\n      <td>26.0</td>\n      <td>9km NE of Aguanga, CA</td>\n      <td>0.19</td>\n      <td>28</td>\n      <td>,ci,</td>\n      <td>automatic</td>\n      <td>1539475168010</td>\n      <td>M 1.4 - 9km NE of Aguanga, CA</td>\n      <td>0</td>\n      <td>earthquake</td>\n      <td>,geoserve,nearby-cities,origin,phase-data,</td>\n      <td>-480.0</td>\n      <td>1539475395144</td>\n      <td>https://earthquake.usgs.gov/earthquakes/eventp...</td>\n    </tr>\n    <tr>\n      <th>1</th>\n      <td>NaN</td>\n      <td>NaN</td>\n      <td>37389202</td>\n      <td>https://earthquake.usgs.gov/fdsnws/event/1/que...</td>\n      <td>0.020030</td>\n      <td>NaN</td>\n      <td>79.0</td>\n      <td>,ci37389202,</td>\n      <td>1.29</td>\n      <td>ml</td>\n      <td>NaN</td>\n      <td>ci</td>\n      <td>20.0</td>\n      <td>9km NE of Aguanga, CA</td>\n      <td>0.29</td>\n      <td>26</td>\n      <td>,ci,</td>\n      <td>automatic</td>\n      <td>1539475129610</td>\n      <td>M 1.3 - 9km NE of Aguanga, CA</td>\n      <td>0</td>\n      <td>earthquake</td>\n      <td>,geoserve,nearby-cities,origin,phase-data,</td>\n      <td>-480.0</td>\n      <td>1539475253925</td>\n      <td>https://earthquake.usgs.gov/earthquakes/eventp...</td>\n    </tr>\n    <tr>\n      <th>2</th>\n      <td>NaN</td>\n      <td>4.4</td>\n      <td>37389194</td>\n      <td>https://earthquake.usgs.gov/fdsnws/event/1/que...</td>\n      <td>0.021370</td>\n      <td>28.0</td>\n      <td>21.0</td>\n      <td>,ci37389194,</td>\n      <td>3.42</td>\n      <td>ml</td>\n      <td>NaN</td>\n      <td>ci</td>\n      <td>111.0</td>\n      <td>8km NE of Aguanga, CA</td>\n      <td>0.22</td>\n      <td>192</td>\n      <td>,ci,</td>\n      <td>automatic</td>\n      <td>1539475062610</td>\n      <td>M 3.4 - 8km NE of Aguanga, CA</td>\n      <td>0</td>\n      <td>earthquake</td>\n      <td>,dyfi,focal-mechanism,geoserve,nearby-cities,o...</td>\n      <td>-480.0</td>\n      <td>1539536756176</td>\n      <td>https://earthquake.usgs.gov/earthquakes/eventp...</td>\n    </tr>\n    <tr>\n      <th>3</th>\n      <td>NaN</td>\n      <td>NaN</td>\n      <td>37389186</td>\n      <td>https://earthquake.usgs.gov/fdsnws/event/1/que...</td>\n      <td>0.026180</td>\n      <td>NaN</td>\n      <td>39.0</td>\n      <td>,ci37389186,</td>\n      <td>0.44</td>\n      <td>ml</td>\n      <td>NaN</td>\n      <td>ci</td>\n      <td>26.0</td>\n      <td>9km NE of Aguanga, CA</td>\n      <td>0.17</td>\n      <td>3</td>\n      <td>,ci,</td>\n      <td>automatic</td>\n      <td>1539474978070</td>\n      <td>M 0.4 - 9km NE of Aguanga, CA</td>\n      <td>0</td>\n      <td>earthquake</td>\n      <td>,geoserve,nearby-cities,origin,phase-data,</td>\n      <td>-480.0</td>\n      <td>1539475196167</td>\n      <td>https://earthquake.usgs.gov/earthquakes/eventp...</td>\n    </tr>\n    <tr>\n      <th>4</th>\n      <td>NaN</td>\n      <td>NaN</td>\n      <td>73096941</td>\n      <td>https://earthquake.usgs.gov/fdsnws/event/1/que...</td>\n      <td>0.077990</td>\n      <td>NaN</td>\n      <td>192.0</td>\n      <td>,nc73096941,</td>\n      <td>2.16</td>\n      <td>md</td>\n      <td>NaN</td>\n      <td>nc</td>\n      <td>18.0</td>\n      <td>10km NW of Avenal, CA</td>\n      <td>0.05</td>\n      <td>72</td>\n      <td>,nc,</td>\n      <td>automatic</td>\n      <td>1539474716050</td>\n      <td>M 2.2 - 10km NW of Avenal, CA</td>\n      <td>0</td>\n      <td>earthquake</td>\n      <td>,geoserve,nearby-cities,origin,phase-data,scit...</td>\n      <td>-480.0</td>\n      <td>1539477547926</td>\n      <td>https://earthquake.usgs.gov/earthquakes/eventp...</td>\n    </tr>\n  </tbody>\n</table>\n</div>"
     },
     "metadata": {},
     "execution_count": 21
    }
   ],
   "source": [
    "pd.options.display.max_columns = 26\n",
    "earthquakes.head(5)"
   ]
  },
  {
   "cell_type": "code",
   "execution_count": 23,
   "metadata": {},
   "outputs": [
    {
     "output_type": "execute_result",
     "data": {
      "text/plain": [
       "alert       object\n",
       "cdi        float64\n",
       "code        object\n",
       "detail      object\n",
       "dmin       float64\n",
       "felt       float64\n",
       "gap        float64\n",
       "ids         object\n",
       "mag        float64\n",
       "magType     object\n",
       "mmi        float64\n",
       "net         object\n",
       "nst        float64\n",
       "place       object\n",
       "rms        float64\n",
       "sig          int64\n",
       "sources     object\n",
       "status      object\n",
       "time         int64\n",
       "title       object\n",
       "tsunami      int64\n",
       "type        object\n",
       "types       object\n",
       "tz         float64\n",
       "updated      int64\n",
       "url         object\n",
       "dtype: object"
      ]
     },
     "metadata": {},
     "execution_count": 23
    }
   ],
   "source": [
    "earthquakes.dtypes"
   ]
  },
  {
   "cell_type": "code",
   "execution_count": 25,
   "metadata": {},
   "outputs": [
    {
     "output_type": "execute_result",
     "data": {
      "text/plain": [
       "              cdi         dmin        felt          gap          mag  \\\n",
       "count  329.000000  6139.000000  329.000000  6164.000000  9331.000000   \n",
       "mean     2.754711     0.544925   12.310030   121.506588     1.497345   \n",
       "std      1.010637     2.214305   48.954944    72.962363     1.203347   \n",
       "min      0.000000     0.000648    0.000000    12.000000    -1.260000   \n",
       "25%      2.000000     0.020425    1.000000    66.142500     0.720000   \n",
       "50%      2.700000     0.059050    2.000000   105.000000     1.300000   \n",
       "75%      3.300000     0.177250    5.000000   159.000000     1.900000   \n",
       "max      8.400000    53.737000  580.000000   355.910000     7.500000   \n",
       "\n",
       "             mmi          nst          rms          sig          time  \\\n",
       "count  93.000000  5364.000000  9332.000000  9332.000000  9.332000e+03   \n",
       "mean    3.651398    19.053878     0.362122    56.899914  1.538284e+12   \n",
       "std     1.790523    15.492315     0.317784    91.872163  6.080306e+08   \n",
       "min     0.000000     0.000000     0.000000     0.000000  1.537229e+12   \n",
       "25%     2.680000     8.000000     0.119675     8.000000  1.537793e+12   \n",
       "50%     3.720000    15.000000     0.210000    26.000000  1.538245e+12   \n",
       "75%     4.570000    25.000000     0.590000    56.000000  1.538766e+12   \n",
       "max     9.120000   172.000000     1.910000  2015.000000  1.539475e+12   \n",
       "\n",
       "           tsunami           tz       updated  \n",
       "count  9332.000000  9331.000000  9.332000e+03  \n",
       "mean      0.006537  -451.990140  1.538537e+12  \n",
       "std       0.080589   231.752571  6.564135e+08  \n",
       "min       0.000000  -720.000000  1.537230e+12  \n",
       "25%       0.000000  -540.000000  1.537996e+12  \n",
       "50%       0.000000  -480.000000  1.538621e+12  \n",
       "75%       0.000000  -480.000000  1.539110e+12  \n",
       "max       1.000000   720.000000  1.539537e+12  "
      ],
      "text/html": "<div>\n<style scoped>\n    .dataframe tbody tr th:only-of-type {\n        vertical-align: middle;\n    }\n\n    .dataframe tbody tr th {\n        vertical-align: top;\n    }\n\n    .dataframe thead th {\n        text-align: right;\n    }\n</style>\n<table border=\"1\" class=\"dataframe\">\n  <thead>\n    <tr style=\"text-align: right;\">\n      <th></th>\n      <th>cdi</th>\n      <th>dmin</th>\n      <th>felt</th>\n      <th>gap</th>\n      <th>mag</th>\n      <th>mmi</th>\n      <th>nst</th>\n      <th>rms</th>\n      <th>sig</th>\n      <th>time</th>\n      <th>tsunami</th>\n      <th>tz</th>\n      <th>updated</th>\n    </tr>\n  </thead>\n  <tbody>\n    <tr>\n      <th>count</th>\n      <td>329.000000</td>\n      <td>6139.000000</td>\n      <td>329.000000</td>\n      <td>6164.000000</td>\n      <td>9331.000000</td>\n      <td>93.000000</td>\n      <td>5364.000000</td>\n      <td>9332.000000</td>\n      <td>9332.000000</td>\n      <td>9.332000e+03</td>\n      <td>9332.000000</td>\n      <td>9331.000000</td>\n      <td>9.332000e+03</td>\n    </tr>\n    <tr>\n      <th>mean</th>\n      <td>2.754711</td>\n      <td>0.544925</td>\n      <td>12.310030</td>\n      <td>121.506588</td>\n      <td>1.497345</td>\n      <td>3.651398</td>\n      <td>19.053878</td>\n      <td>0.362122</td>\n      <td>56.899914</td>\n      <td>1.538284e+12</td>\n      <td>0.006537</td>\n      <td>-451.990140</td>\n      <td>1.538537e+12</td>\n    </tr>\n    <tr>\n      <th>std</th>\n      <td>1.010637</td>\n      <td>2.214305</td>\n      <td>48.954944</td>\n      <td>72.962363</td>\n      <td>1.203347</td>\n      <td>1.790523</td>\n      <td>15.492315</td>\n      <td>0.317784</td>\n      <td>91.872163</td>\n      <td>6.080306e+08</td>\n      <td>0.080589</td>\n      <td>231.752571</td>\n      <td>6.564135e+08</td>\n    </tr>\n    <tr>\n      <th>min</th>\n      <td>0.000000</td>\n      <td>0.000648</td>\n      <td>0.000000</td>\n      <td>12.000000</td>\n      <td>-1.260000</td>\n      <td>0.000000</td>\n      <td>0.000000</td>\n      <td>0.000000</td>\n      <td>0.000000</td>\n      <td>1.537229e+12</td>\n      <td>0.000000</td>\n      <td>-720.000000</td>\n      <td>1.537230e+12</td>\n    </tr>\n    <tr>\n      <th>25%</th>\n      <td>2.000000</td>\n      <td>0.020425</td>\n      <td>1.000000</td>\n      <td>66.142500</td>\n      <td>0.720000</td>\n      <td>2.680000</td>\n      <td>8.000000</td>\n      <td>0.119675</td>\n      <td>8.000000</td>\n      <td>1.537793e+12</td>\n      <td>0.000000</td>\n      <td>-540.000000</td>\n      <td>1.537996e+12</td>\n    </tr>\n    <tr>\n      <th>50%</th>\n      <td>2.700000</td>\n      <td>0.059050</td>\n      <td>2.000000</td>\n      <td>105.000000</td>\n      <td>1.300000</td>\n      <td>3.720000</td>\n      <td>15.000000</td>\n      <td>0.210000</td>\n      <td>26.000000</td>\n      <td>1.538245e+12</td>\n      <td>0.000000</td>\n      <td>-480.000000</td>\n      <td>1.538621e+12</td>\n    </tr>\n    <tr>\n      <th>75%</th>\n      <td>3.300000</td>\n      <td>0.177250</td>\n      <td>5.000000</td>\n      <td>159.000000</td>\n      <td>1.900000</td>\n      <td>4.570000</td>\n      <td>25.000000</td>\n      <td>0.590000</td>\n      <td>56.000000</td>\n      <td>1.538766e+12</td>\n      <td>0.000000</td>\n      <td>-480.000000</td>\n      <td>1.539110e+12</td>\n    </tr>\n    <tr>\n      <th>max</th>\n      <td>8.400000</td>\n      <td>53.737000</td>\n      <td>580.000000</td>\n      <td>355.910000</td>\n      <td>7.500000</td>\n      <td>9.120000</td>\n      <td>172.000000</td>\n      <td>1.910000</td>\n      <td>2015.000000</td>\n      <td>1.539475e+12</td>\n      <td>1.000000</td>\n      <td>720.000000</td>\n      <td>1.539537e+12</td>\n    </tr>\n  </tbody>\n</table>\n</div>"
     },
     "metadata": {},
     "execution_count": 25
    }
   ],
   "source": [
    "earthquakes.describe()"
   ]
  },
  {
   "cell_type": "code",
   "execution_count": 26,
   "metadata": {},
   "outputs": [
    {
     "output_type": "execute_result",
     "data": {
      "text/plain": [
       "        alert         cdi      code  \\\n",
       "count      59  329.000000      9332   \n",
       "unique      2         NaN      9332   \n",
       "top     green         NaN  20274592   \n",
       "freq       58         NaN         1   \n",
       "mean      NaN    2.754711       NaN   \n",
       "std       NaN    1.010637       NaN   \n",
       "min       NaN    0.000000       NaN   \n",
       "25%       NaN    2.000000       NaN   \n",
       "50%       NaN    2.700000       NaN   \n",
       "75%       NaN    3.300000       NaN   \n",
       "max       NaN    8.400000       NaN   \n",
       "\n",
       "                                                   detail         dmin  \\\n",
       "count                                                9332  6139.000000   \n",
       "unique                                               9332          NaN   \n",
       "top     https://earthquake.usgs.gov/fdsnws/event/1/que...          NaN   \n",
       "freq                                                    1          NaN   \n",
       "mean                                                  NaN     0.544925   \n",
       "std                                                   NaN     2.214305   \n",
       "min                                                   NaN     0.000648   \n",
       "25%                                                   NaN     0.020425   \n",
       "50%                                                   NaN     0.059050   \n",
       "75%                                                   NaN     0.177250   \n",
       "max                                                   NaN    53.737000   \n",
       "\n",
       "              felt          gap           ids          mag magType        mmi  \\\n",
       "count   329.000000  6164.000000          9332  9331.000000    9331  93.000000   \n",
       "unique         NaN          NaN          9332          NaN      10        NaN   \n",
       "top            NaN          NaN  ,nc73092371,          NaN      ml        NaN   \n",
       "freq           NaN          NaN             1          NaN    6803        NaN   \n",
       "mean     12.310030   121.506588           NaN     1.497345     NaN   3.651398   \n",
       "std      48.954944    72.962363           NaN     1.203347     NaN   1.790523   \n",
       "min       0.000000    12.000000           NaN    -1.260000     NaN   0.000000   \n",
       "25%       1.000000    66.142500           NaN     0.720000     NaN   2.680000   \n",
       "50%       2.000000   105.000000           NaN     1.300000     NaN   3.720000   \n",
       "75%       5.000000   159.000000           NaN     1.900000     NaN   4.570000   \n",
       "max     580.000000   355.910000           NaN     7.500000     NaN   9.120000   \n",
       "\n",
       "         net          nst                   place          rms          sig  \\\n",
       "count   9332  5364.000000                    9332  9332.000000  9332.000000   \n",
       "unique    14          NaN                    5433          NaN          NaN   \n",
       "top       ak          NaN  10km NE of Aguanga, CA          NaN          NaN   \n",
       "freq    3166          NaN                     306          NaN          NaN   \n",
       "mean     NaN    19.053878                     NaN     0.362122    56.899914   \n",
       "std      NaN    15.492315                     NaN     0.317784    91.872163   \n",
       "min      NaN     0.000000                     NaN     0.000000     0.000000   \n",
       "25%      NaN     8.000000                     NaN     0.119675     8.000000   \n",
       "50%      NaN    15.000000                     NaN     0.210000    26.000000   \n",
       "75%      NaN    25.000000                     NaN     0.590000    56.000000   \n",
       "max      NaN   172.000000                     NaN     1.910000  2015.000000   \n",
       "\n",
       "       sources    status          time                           title  \\\n",
       "count     9332      9332  9.332000e+03                            9332   \n",
       "unique      52         2           NaN                            7807   \n",
       "top       ,ak,  reviewed           NaN  M 0.4 - 10km NE of Aguanga, CA   \n",
       "freq      2981      7797           NaN                              55   \n",
       "mean       NaN       NaN  1.538284e+12                             NaN   \n",
       "std        NaN       NaN  6.080306e+08                             NaN   \n",
       "min        NaN       NaN  1.537229e+12                             NaN   \n",
       "25%        NaN       NaN  1.537793e+12                             NaN   \n",
       "50%        NaN       NaN  1.538245e+12                             NaN   \n",
       "75%        NaN       NaN  1.538766e+12                             NaN   \n",
       "max        NaN       NaN  1.539475e+12                             NaN   \n",
       "\n",
       "            tsunami        type                         types           tz  \\\n",
       "count   9332.000000        9332                          9332  9331.000000   \n",
       "unique          NaN           5                            42          NaN   \n",
       "top             NaN  earthquake  ,geoserve,origin,phase-data,          NaN   \n",
       "freq            NaN        9081                          5301          NaN   \n",
       "mean       0.006537         NaN                           NaN  -451.990140   \n",
       "std        0.080589         NaN                           NaN   231.752571   \n",
       "min        0.000000         NaN                           NaN  -720.000000   \n",
       "25%        0.000000         NaN                           NaN  -540.000000   \n",
       "50%        0.000000         NaN                           NaN  -480.000000   \n",
       "75%        0.000000         NaN                           NaN  -480.000000   \n",
       "max        1.000000         NaN                           NaN   720.000000   \n",
       "\n",
       "             updated                                                url  \n",
       "count   9.332000e+03                                               9332  \n",
       "unique           NaN                                               9332  \n",
       "top              NaN  https://earthquake.usgs.gov/earthquakes/eventp...  \n",
       "freq             NaN                                                  1  \n",
       "mean    1.538537e+12                                                NaN  \n",
       "std     6.564135e+08                                                NaN  \n",
       "min     1.537230e+12                                                NaN  \n",
       "25%     1.537996e+12                                                NaN  \n",
       "50%     1.538621e+12                                                NaN  \n",
       "75%     1.539110e+12                                                NaN  \n",
       "max     1.539537e+12                                                NaN  "
      ],
      "text/html": "<div>\n<style scoped>\n    .dataframe tbody tr th:only-of-type {\n        vertical-align: middle;\n    }\n\n    .dataframe tbody tr th {\n        vertical-align: top;\n    }\n\n    .dataframe thead th {\n        text-align: right;\n    }\n</style>\n<table border=\"1\" class=\"dataframe\">\n  <thead>\n    <tr style=\"text-align: right;\">\n      <th></th>\n      <th>alert</th>\n      <th>cdi</th>\n      <th>code</th>\n      <th>detail</th>\n      <th>dmin</th>\n      <th>felt</th>\n      <th>gap</th>\n      <th>ids</th>\n      <th>mag</th>\n      <th>magType</th>\n      <th>mmi</th>\n      <th>net</th>\n      <th>nst</th>\n      <th>place</th>\n      <th>rms</th>\n      <th>sig</th>\n      <th>sources</th>\n      <th>status</th>\n      <th>time</th>\n      <th>title</th>\n      <th>tsunami</th>\n      <th>type</th>\n      <th>types</th>\n      <th>tz</th>\n      <th>updated</th>\n      <th>url</th>\n    </tr>\n  </thead>\n  <tbody>\n    <tr>\n      <th>count</th>\n      <td>59</td>\n      <td>329.000000</td>\n      <td>9332</td>\n      <td>9332</td>\n      <td>6139.000000</td>\n      <td>329.000000</td>\n      <td>6164.000000</td>\n      <td>9332</td>\n      <td>9331.000000</td>\n      <td>9331</td>\n      <td>93.000000</td>\n      <td>9332</td>\n      <td>5364.000000</td>\n      <td>9332</td>\n      <td>9332.000000</td>\n      <td>9332.000000</td>\n      <td>9332</td>\n      <td>9332</td>\n      <td>9.332000e+03</td>\n      <td>9332</td>\n      <td>9332.000000</td>\n      <td>9332</td>\n      <td>9332</td>\n      <td>9331.000000</td>\n      <td>9.332000e+03</td>\n      <td>9332</td>\n    </tr>\n    <tr>\n      <th>unique</th>\n      <td>2</td>\n      <td>NaN</td>\n      <td>9332</td>\n      <td>9332</td>\n      <td>NaN</td>\n      <td>NaN</td>\n      <td>NaN</td>\n      <td>9332</td>\n      <td>NaN</td>\n      <td>10</td>\n      <td>NaN</td>\n      <td>14</td>\n      <td>NaN</td>\n      <td>5433</td>\n      <td>NaN</td>\n      <td>NaN</td>\n      <td>52</td>\n      <td>2</td>\n      <td>NaN</td>\n      <td>7807</td>\n      <td>NaN</td>\n      <td>5</td>\n      <td>42</td>\n      <td>NaN</td>\n      <td>NaN</td>\n      <td>9332</td>\n    </tr>\n    <tr>\n      <th>top</th>\n      <td>green</td>\n      <td>NaN</td>\n      <td>20274592</td>\n      <td>https://earthquake.usgs.gov/fdsnws/event/1/que...</td>\n      <td>NaN</td>\n      <td>NaN</td>\n      <td>NaN</td>\n      <td>,nc73092371,</td>\n      <td>NaN</td>\n      <td>ml</td>\n      <td>NaN</td>\n      <td>ak</td>\n      <td>NaN</td>\n      <td>10km NE of Aguanga, CA</td>\n      <td>NaN</td>\n      <td>NaN</td>\n      <td>,ak,</td>\n      <td>reviewed</td>\n      <td>NaN</td>\n      <td>M 0.4 - 10km NE of Aguanga, CA</td>\n      <td>NaN</td>\n      <td>earthquake</td>\n      <td>,geoserve,origin,phase-data,</td>\n      <td>NaN</td>\n      <td>NaN</td>\n      <td>https://earthquake.usgs.gov/earthquakes/eventp...</td>\n    </tr>\n    <tr>\n      <th>freq</th>\n      <td>58</td>\n      <td>NaN</td>\n      <td>1</td>\n      <td>1</td>\n      <td>NaN</td>\n      <td>NaN</td>\n      <td>NaN</td>\n      <td>1</td>\n      <td>NaN</td>\n      <td>6803</td>\n      <td>NaN</td>\n      <td>3166</td>\n      <td>NaN</td>\n      <td>306</td>\n      <td>NaN</td>\n      <td>NaN</td>\n      <td>2981</td>\n      <td>7797</td>\n      <td>NaN</td>\n      <td>55</td>\n      <td>NaN</td>\n      <td>9081</td>\n      <td>5301</td>\n      <td>NaN</td>\n      <td>NaN</td>\n      <td>1</td>\n    </tr>\n    <tr>\n      <th>mean</th>\n      <td>NaN</td>\n      <td>2.754711</td>\n      <td>NaN</td>\n      <td>NaN</td>\n      <td>0.544925</td>\n      <td>12.310030</td>\n      <td>121.506588</td>\n      <td>NaN</td>\n      <td>1.497345</td>\n      <td>NaN</td>\n      <td>3.651398</td>\n      <td>NaN</td>\n      <td>19.053878</td>\n      <td>NaN</td>\n      <td>0.362122</td>\n      <td>56.899914</td>\n      <td>NaN</td>\n      <td>NaN</td>\n      <td>1.538284e+12</td>\n      <td>NaN</td>\n      <td>0.006537</td>\n      <td>NaN</td>\n      <td>NaN</td>\n      <td>-451.990140</td>\n      <td>1.538537e+12</td>\n      <td>NaN</td>\n    </tr>\n    <tr>\n      <th>std</th>\n      <td>NaN</td>\n      <td>1.010637</td>\n      <td>NaN</td>\n      <td>NaN</td>\n      <td>2.214305</td>\n      <td>48.954944</td>\n      <td>72.962363</td>\n      <td>NaN</td>\n      <td>1.203347</td>\n      <td>NaN</td>\n      <td>1.790523</td>\n      <td>NaN</td>\n      <td>15.492315</td>\n      <td>NaN</td>\n      <td>0.317784</td>\n      <td>91.872163</td>\n      <td>NaN</td>\n      <td>NaN</td>\n      <td>6.080306e+08</td>\n      <td>NaN</td>\n      <td>0.080589</td>\n      <td>NaN</td>\n      <td>NaN</td>\n      <td>231.752571</td>\n      <td>6.564135e+08</td>\n      <td>NaN</td>\n    </tr>\n    <tr>\n      <th>min</th>\n      <td>NaN</td>\n      <td>0.000000</td>\n      <td>NaN</td>\n      <td>NaN</td>\n      <td>0.000648</td>\n      <td>0.000000</td>\n      <td>12.000000</td>\n      <td>NaN</td>\n      <td>-1.260000</td>\n      <td>NaN</td>\n      <td>0.000000</td>\n      <td>NaN</td>\n      <td>0.000000</td>\n      <td>NaN</td>\n      <td>0.000000</td>\n      <td>0.000000</td>\n      <td>NaN</td>\n      <td>NaN</td>\n      <td>1.537229e+12</td>\n      <td>NaN</td>\n      <td>0.000000</td>\n      <td>NaN</td>\n      <td>NaN</td>\n      <td>-720.000000</td>\n      <td>1.537230e+12</td>\n      <td>NaN</td>\n    </tr>\n    <tr>\n      <th>25%</th>\n      <td>NaN</td>\n      <td>2.000000</td>\n      <td>NaN</td>\n      <td>NaN</td>\n      <td>0.020425</td>\n      <td>1.000000</td>\n      <td>66.142500</td>\n      <td>NaN</td>\n      <td>0.720000</td>\n      <td>NaN</td>\n      <td>2.680000</td>\n      <td>NaN</td>\n      <td>8.000000</td>\n      <td>NaN</td>\n      <td>0.119675</td>\n      <td>8.000000</td>\n      <td>NaN</td>\n      <td>NaN</td>\n      <td>1.537793e+12</td>\n      <td>NaN</td>\n      <td>0.000000</td>\n      <td>NaN</td>\n      <td>NaN</td>\n      <td>-540.000000</td>\n      <td>1.537996e+12</td>\n      <td>NaN</td>\n    </tr>\n    <tr>\n      <th>50%</th>\n      <td>NaN</td>\n      <td>2.700000</td>\n      <td>NaN</td>\n      <td>NaN</td>\n      <td>0.059050</td>\n      <td>2.000000</td>\n      <td>105.000000</td>\n      <td>NaN</td>\n      <td>1.300000</td>\n      <td>NaN</td>\n      <td>3.720000</td>\n      <td>NaN</td>\n      <td>15.000000</td>\n      <td>NaN</td>\n      <td>0.210000</td>\n      <td>26.000000</td>\n      <td>NaN</td>\n      <td>NaN</td>\n      <td>1.538245e+12</td>\n      <td>NaN</td>\n      <td>0.000000</td>\n      <td>NaN</td>\n      <td>NaN</td>\n      <td>-480.000000</td>\n      <td>1.538621e+12</td>\n      <td>NaN</td>\n    </tr>\n    <tr>\n      <th>75%</th>\n      <td>NaN</td>\n      <td>3.300000</td>\n      <td>NaN</td>\n      <td>NaN</td>\n      <td>0.177250</td>\n      <td>5.000000</td>\n      <td>159.000000</td>\n      <td>NaN</td>\n      <td>1.900000</td>\n      <td>NaN</td>\n      <td>4.570000</td>\n      <td>NaN</td>\n      <td>25.000000</td>\n      <td>NaN</td>\n      <td>0.590000</td>\n      <td>56.000000</td>\n      <td>NaN</td>\n      <td>NaN</td>\n      <td>1.538766e+12</td>\n      <td>NaN</td>\n      <td>0.000000</td>\n      <td>NaN</td>\n      <td>NaN</td>\n      <td>-480.000000</td>\n      <td>1.539110e+12</td>\n      <td>NaN</td>\n    </tr>\n    <tr>\n      <th>max</th>\n      <td>NaN</td>\n      <td>8.400000</td>\n      <td>NaN</td>\n      <td>NaN</td>\n      <td>53.737000</td>\n      <td>580.000000</td>\n      <td>355.910000</td>\n      <td>NaN</td>\n      <td>7.500000</td>\n      <td>NaN</td>\n      <td>9.120000</td>\n      <td>NaN</td>\n      <td>172.000000</td>\n      <td>NaN</td>\n      <td>1.910000</td>\n      <td>2015.000000</td>\n      <td>NaN</td>\n      <td>NaN</td>\n      <td>1.539475e+12</td>\n      <td>NaN</td>\n      <td>1.000000</td>\n      <td>NaN</td>\n      <td>NaN</td>\n      <td>720.000000</td>\n      <td>1.539537e+12</td>\n      <td>NaN</td>\n    </tr>\n  </tbody>\n</table>\n</div>"
     },
     "metadata": {},
     "execution_count": 26
    }
   ],
   "source": [
    "earthquakes.describe(include='all')"
   ]
  },
  {
   "cell_type": "code",
   "execution_count": 27,
   "metadata": {},
   "outputs": [
    {
     "output_type": "execute_result",
     "data": {
      "text/plain": [
       "count    329.000000\n",
       "mean       2.754711\n",
       "std        1.010637\n",
       "min        0.000000\n",
       "25%        2.000000\n",
       "50%        2.700000\n",
       "75%        3.300000\n",
       "max        8.400000\n",
       "Name: cdi, dtype: float64"
      ]
     },
     "metadata": {},
     "execution_count": 27
    }
   ],
   "source": [
    "earthquakes.cdi.describe()"
   ]
  },
  {
   "cell_type": "code",
   "execution_count": 29,
   "metadata": {},
   "outputs": [
    {
     "output_type": "execute_result",
     "data": {
      "text/plain": [
       "green    58\n",
       "red       1\n",
       "Name: alert, dtype: int64"
      ]
     },
     "metadata": {},
     "execution_count": 29
    }
   ],
   "source": [
    "earthquakes.alert.value_counts()"
   ]
  },
  {
   "cell_type": "code",
   "execution_count": 31,
   "metadata": {},
   "outputs": [
    {
     "output_type": "execute_result",
     "data": {
      "text/plain": [
       "array([nan, 'green', 'red'], dtype=object)"
      ]
     },
     "metadata": {},
     "execution_count": 31
    }
   ],
   "source": [
    "earthquakes.alert.unique()"
   ]
  },
  {
   "cell_type": "code",
   "execution_count": 35,
   "metadata": {},
   "outputs": [
    {
     "output_type": "execute_result",
     "data": {
      "text/plain": [
       "  alert  cdi   mag magType\n",
       "0   NaN  NaN  1.35      ml\n",
       "1   NaN  NaN  1.29      ml\n",
       "2   NaN  4.4  3.42      ml\n",
       "3   NaN  NaN  0.44      ml\n",
       "4   NaN  NaN  2.16      md"
      ],
      "text/html": "<div>\n<style scoped>\n    .dataframe tbody tr th:only-of-type {\n        vertical-align: middle;\n    }\n\n    .dataframe tbody tr th {\n        vertical-align: top;\n    }\n\n    .dataframe thead th {\n        text-align: right;\n    }\n</style>\n<table border=\"1\" class=\"dataframe\">\n  <thead>\n    <tr style=\"text-align: right;\">\n      <th></th>\n      <th>alert</th>\n      <th>cdi</th>\n      <th>mag</th>\n      <th>magType</th>\n    </tr>\n  </thead>\n  <tbody>\n    <tr>\n      <th>0</th>\n      <td>NaN</td>\n      <td>NaN</td>\n      <td>1.35</td>\n      <td>ml</td>\n    </tr>\n    <tr>\n      <th>1</th>\n      <td>NaN</td>\n      <td>NaN</td>\n      <td>1.29</td>\n      <td>ml</td>\n    </tr>\n    <tr>\n      <th>2</th>\n      <td>NaN</td>\n      <td>4.4</td>\n      <td>3.42</td>\n      <td>ml</td>\n    </tr>\n    <tr>\n      <th>3</th>\n      <td>NaN</td>\n      <td>NaN</td>\n      <td>0.44</td>\n      <td>ml</td>\n    </tr>\n    <tr>\n      <th>4</th>\n      <td>NaN</td>\n      <td>NaN</td>\n      <td>2.16</td>\n      <td>md</td>\n    </tr>\n  </tbody>\n</table>\n</div>"
     },
     "metadata": {},
     "execution_count": 35
    }
   ],
   "source": [
    "earthquakes[['alert','cdi','mag','magType']].head()"
   ]
  },
  {
   "cell_type": "code",
   "execution_count": 37,
   "metadata": {},
   "outputs": [
    {
     "output_type": "execute_result",
     "data": {
      "text/plain": [
       "  alert  cdi   mag magType\n",
       "1   NaN  NaN  1.29      ml\n",
       "2   NaN  4.4  3.42      ml\n",
       "3   NaN  NaN  0.44      ml\n",
       "4   NaN  NaN  2.16      md\n",
       "5   NaN  NaN  2.61      md\n",
       "6   NaN  NaN  1.70      ml\n",
       "7   NaN  NaN  1.13      md\n",
       "8   NaN  NaN  0.92      md\n",
       "9   NaN  NaN  4.70      mb"
      ],
      "text/html": "<div>\n<style scoped>\n    .dataframe tbody tr th:only-of-type {\n        vertical-align: middle;\n    }\n\n    .dataframe tbody tr th {\n        vertical-align: top;\n    }\n\n    .dataframe thead th {\n        text-align: right;\n    }\n</style>\n<table border=\"1\" class=\"dataframe\">\n  <thead>\n    <tr style=\"text-align: right;\">\n      <th></th>\n      <th>alert</th>\n      <th>cdi</th>\n      <th>mag</th>\n      <th>magType</th>\n    </tr>\n  </thead>\n  <tbody>\n    <tr>\n      <th>1</th>\n      <td>NaN</td>\n      <td>NaN</td>\n      <td>1.29</td>\n      <td>ml</td>\n    </tr>\n    <tr>\n      <th>2</th>\n      <td>NaN</td>\n      <td>4.4</td>\n      <td>3.42</td>\n      <td>ml</td>\n    </tr>\n    <tr>\n      <th>3</th>\n      <td>NaN</td>\n      <td>NaN</td>\n      <td>0.44</td>\n      <td>ml</td>\n    </tr>\n    <tr>\n      <th>4</th>\n      <td>NaN</td>\n      <td>NaN</td>\n      <td>2.16</td>\n      <td>md</td>\n    </tr>\n    <tr>\n      <th>5</th>\n      <td>NaN</td>\n      <td>NaN</td>\n      <td>2.61</td>\n      <td>md</td>\n    </tr>\n    <tr>\n      <th>6</th>\n      <td>NaN</td>\n      <td>NaN</td>\n      <td>1.70</td>\n      <td>ml</td>\n    </tr>\n    <tr>\n      <th>7</th>\n      <td>NaN</td>\n      <td>NaN</td>\n      <td>1.13</td>\n      <td>md</td>\n    </tr>\n    <tr>\n      <th>8</th>\n      <td>NaN</td>\n      <td>NaN</td>\n      <td>0.92</td>\n      <td>md</td>\n    </tr>\n    <tr>\n      <th>9</th>\n      <td>NaN</td>\n      <td>NaN</td>\n      <td>4.70</td>\n      <td>mb</td>\n    </tr>\n  </tbody>\n</table>\n</div>"
     },
     "metadata": {},
     "execution_count": 37
    }
   ],
   "source": [
    "earthquakes[['alert','cdi','mag','magType']][1:10]"
   ]
  },
  {
   "cell_type": "code",
   "execution_count": 39,
   "metadata": {},
   "outputs": [
    {
     "output_type": "execute_result",
     "data": {
      "text/plain": [
       "   alert  cdi   mag magType\n",
       "1    NaN  NaN  1.29      ml\n",
       "2    NaN  4.4  3.42      ml\n",
       "3    NaN  NaN  0.44      ml\n",
       "4    NaN  NaN  2.16      md\n",
       "5    NaN  NaN  2.61      md\n",
       "6    NaN  NaN  1.70      ml\n",
       "7    NaN  NaN  1.13      md\n",
       "8    NaN  NaN  0.92      md\n",
       "9    NaN  NaN  4.70      mb\n",
       "10   NaN  NaN  0.50      ml"
      ],
      "text/html": "<div>\n<style scoped>\n    .dataframe tbody tr th:only-of-type {\n        vertical-align: middle;\n    }\n\n    .dataframe tbody tr th {\n        vertical-align: top;\n    }\n\n    .dataframe thead th {\n        text-align: right;\n    }\n</style>\n<table border=\"1\" class=\"dataframe\">\n  <thead>\n    <tr style=\"text-align: right;\">\n      <th></th>\n      <th>alert</th>\n      <th>cdi</th>\n      <th>mag</th>\n      <th>magType</th>\n    </tr>\n  </thead>\n  <tbody>\n    <tr>\n      <th>1</th>\n      <td>NaN</td>\n      <td>NaN</td>\n      <td>1.29</td>\n      <td>ml</td>\n    </tr>\n    <tr>\n      <th>2</th>\n      <td>NaN</td>\n      <td>4.4</td>\n      <td>3.42</td>\n      <td>ml</td>\n    </tr>\n    <tr>\n      <th>3</th>\n      <td>NaN</td>\n      <td>NaN</td>\n      <td>0.44</td>\n      <td>ml</td>\n    </tr>\n    <tr>\n      <th>4</th>\n      <td>NaN</td>\n      <td>NaN</td>\n      <td>2.16</td>\n      <td>md</td>\n    </tr>\n    <tr>\n      <th>5</th>\n      <td>NaN</td>\n      <td>NaN</td>\n      <td>2.61</td>\n      <td>md</td>\n    </tr>\n    <tr>\n      <th>6</th>\n      <td>NaN</td>\n      <td>NaN</td>\n      <td>1.70</td>\n      <td>ml</td>\n    </tr>\n    <tr>\n      <th>7</th>\n      <td>NaN</td>\n      <td>NaN</td>\n      <td>1.13</td>\n      <td>md</td>\n    </tr>\n    <tr>\n      <th>8</th>\n      <td>NaN</td>\n      <td>NaN</td>\n      <td>0.92</td>\n      <td>md</td>\n    </tr>\n    <tr>\n      <th>9</th>\n      <td>NaN</td>\n      <td>NaN</td>\n      <td>4.70</td>\n      <td>mb</td>\n    </tr>\n    <tr>\n      <th>10</th>\n      <td>NaN</td>\n      <td>NaN</td>\n      <td>0.50</td>\n      <td>ml</td>\n    </tr>\n  </tbody>\n</table>\n</div>"
     },
     "metadata": {},
     "execution_count": 39
    }
   ],
   "source": [
    "earthquakes.loc[1:10,['alert','cdi','mag','magType']]"
   ]
  },
  {
   "cell_type": "code",
   "execution_count": 41,
   "metadata": {},
   "outputs": [
    {
     "output_type": "execute_result",
     "data": {
      "text/plain": [
       "   cdi        code                                             detail  \\\n",
       "1  NaN    37389202  https://earthquake.usgs.gov/fdsnws/event/1/que...   \n",
       "2  4.4    37389194  https://earthquake.usgs.gov/fdsnws/event/1/que...   \n",
       "3  NaN    37389186  https://earthquake.usgs.gov/fdsnws/event/1/que...   \n",
       "4  NaN    73096941  https://earthquake.usgs.gov/fdsnws/event/1/que...   \n",
       "5  NaN  2018286011  https://earthquake.usgs.gov/fdsnws/event/1/que...   \n",
       "6  NaN    20280432  https://earthquake.usgs.gov/fdsnws/event/1/que...   \n",
       "7  NaN    73096936  https://earthquake.usgs.gov/fdsnws/event/1/que...   \n",
       "8  NaN    73096931  https://earthquake.usgs.gov/fdsnws/event/1/que...   \n",
       "9  NaN    1000hbtn  https://earthquake.usgs.gov/fdsnws/event/1/que...   \n",
       "\n",
       "       dmin  felt  \n",
       "1  0.020030   NaN  \n",
       "2  0.021370  28.0  \n",
       "3  0.026180   NaN  \n",
       "4  0.077990   NaN  \n",
       "5  0.437300   NaN  \n",
       "6       NaN   NaN  \n",
       "7  0.016220   NaN  \n",
       "8  0.009138   NaN  \n",
       "9  3.191000   NaN  "
      ],
      "text/html": "<div>\n<style scoped>\n    .dataframe tbody tr th:only-of-type {\n        vertical-align: middle;\n    }\n\n    .dataframe tbody tr th {\n        vertical-align: top;\n    }\n\n    .dataframe thead th {\n        text-align: right;\n    }\n</style>\n<table border=\"1\" class=\"dataframe\">\n  <thead>\n    <tr style=\"text-align: right;\">\n      <th></th>\n      <th>cdi</th>\n      <th>code</th>\n      <th>detail</th>\n      <th>dmin</th>\n      <th>felt</th>\n    </tr>\n  </thead>\n  <tbody>\n    <tr>\n      <th>1</th>\n      <td>NaN</td>\n      <td>37389202</td>\n      <td>https://earthquake.usgs.gov/fdsnws/event/1/que...</td>\n      <td>0.020030</td>\n      <td>NaN</td>\n    </tr>\n    <tr>\n      <th>2</th>\n      <td>4.4</td>\n      <td>37389194</td>\n      <td>https://earthquake.usgs.gov/fdsnws/event/1/que...</td>\n      <td>0.021370</td>\n      <td>28.0</td>\n    </tr>\n    <tr>\n      <th>3</th>\n      <td>NaN</td>\n      <td>37389186</td>\n      <td>https://earthquake.usgs.gov/fdsnws/event/1/que...</td>\n      <td>0.026180</td>\n      <td>NaN</td>\n    </tr>\n    <tr>\n      <th>4</th>\n      <td>NaN</td>\n      <td>73096941</td>\n      <td>https://earthquake.usgs.gov/fdsnws/event/1/que...</td>\n      <td>0.077990</td>\n      <td>NaN</td>\n    </tr>\n    <tr>\n      <th>5</th>\n      <td>NaN</td>\n      <td>2018286011</td>\n      <td>https://earthquake.usgs.gov/fdsnws/event/1/que...</td>\n      <td>0.437300</td>\n      <td>NaN</td>\n    </tr>\n    <tr>\n      <th>6</th>\n      <td>NaN</td>\n      <td>20280432</td>\n      <td>https://earthquake.usgs.gov/fdsnws/event/1/que...</td>\n      <td>NaN</td>\n      <td>NaN</td>\n    </tr>\n    <tr>\n      <th>7</th>\n      <td>NaN</td>\n      <td>73096936</td>\n      <td>https://earthquake.usgs.gov/fdsnws/event/1/que...</td>\n      <td>0.016220</td>\n      <td>NaN</td>\n    </tr>\n    <tr>\n      <th>8</th>\n      <td>NaN</td>\n      <td>73096931</td>\n      <td>https://earthquake.usgs.gov/fdsnws/event/1/que...</td>\n      <td>0.009138</td>\n      <td>NaN</td>\n    </tr>\n    <tr>\n      <th>9</th>\n      <td>NaN</td>\n      <td>1000hbtn</td>\n      <td>https://earthquake.usgs.gov/fdsnws/event/1/que...</td>\n      <td>3.191000</td>\n      <td>NaN</td>\n    </tr>\n  </tbody>\n</table>\n</div>"
     },
     "metadata": {},
     "execution_count": 41
    }
   ],
   "source": [
    "earthquakes.iloc[1:10,1:6]"
   ]
  },
  {
   "cell_type": "code",
   "execution_count": 42,
   "metadata": {},
   "outputs": [
    {
     "output_type": "execute_result",
     "data": {
      "text/plain": [
       "nan"
      ]
     },
     "metadata": {},
     "execution_count": 42
    }
   ],
   "source": [
    "earthquakes.at[10,'alert']"
   ]
  },
  {
   "cell_type": "code",
   "execution_count": 44,
   "metadata": {},
   "outputs": [
    {
     "output_type": "execute_result",
     "data": {
      "text/plain": [
       "57.0"
      ]
     },
     "metadata": {},
     "execution_count": 44
    }
   ],
   "source": [
    "earthquakes.iat[10,6]"
   ]
  },
  {
   "cell_type": "code",
   "execution_count": 48,
   "metadata": {},
   "outputs": [
    {
     "output_type": "execute_result",
     "data": {
      "text/plain": [
       "0       False\n",
       "1       False\n",
       "2       False\n",
       "3       False\n",
       "4       False\n",
       "        ...  \n",
       "9327    False\n",
       "9328    False\n",
       "9329    False\n",
       "9330    False\n",
       "9331    False\n",
       "Name: alert, Length: 9332, dtype: bool"
      ]
     },
     "metadata": {},
     "execution_count": 48
    }
   ],
   "source": [
    "earthquakes.alert.isin(['green','red'])"
   ]
  },
  {
   "cell_type": "code",
   "execution_count": 50,
   "metadata": {},
   "outputs": [
    {
     "output_type": "execute_result",
     "data": {
      "text/plain": [
       "5263"
      ]
     },
     "metadata": {},
     "execution_count": 50
    }
   ],
   "source": [
    "earthquakes.mag.idxmax()"
   ]
  },
  {
   "cell_type": "code",
   "execution_count": 52,
   "metadata": {},
   "outputs": [
    {
     "output_type": "execute_result",
     "data": {
      "text/plain": [
       "2409"
      ]
     },
     "metadata": {},
     "execution_count": 52
    }
   ],
   "source": [
    "earthquakes.mag.idxmin()"
   ]
  },
  {
   "cell_type": "code",
   "execution_count": 54,
   "metadata": {},
   "outputs": [
    {
     "output_type": "execute_result",
     "data": {
      "text/plain": [
       "10km NE of Aguanga, CA                   306\n",
       "9km NE of Aguanga, CA                    264\n",
       "42km ENE of Adak, Alaska                  71\n",
       "22km ENE of Honaunau-Napoopoo, Hawaii     65\n",
       "8km NE of Aguanga, CA                     60\n",
       "                                        ... \n",
       "22km ENE of Mooreland, Oklahoma            1\n",
       "41km WSW of Talkeetna, Alaska              1\n",
       "87km N of Kobuk, Alaska                    1\n",
       "271km NNE of Ndoi Island, Fiji             1\n",
       "31km SW of Salcha, Alaska                  1\n",
       "Name: place, Length: 5433, dtype: int64"
      ]
     },
     "metadata": {},
     "execution_count": 54
    }
   ],
   "source": [
    "earthquakes.place.value_counts()"
   ]
  },
  {
   "cell_type": "code",
   "execution_count": 63,
   "metadata": {},
   "outputs": [
    {
     "output_type": "execute_result",
     "data": {
      "text/plain": [
       "   alert  cdi        code                                             detail  \\\n",
       "4    NaN  NaN    73096941  https://earthquake.usgs.gov/fdsnws/event/1/que...   \n",
       "5    NaN  NaN  2018286011  https://earthquake.usgs.gov/fdsnws/event/1/que...   \n",
       "11   NaN  NaN  2018286010  https://earthquake.usgs.gov/fdsnws/event/1/que...   \n",
       "14   NaN  NaN    73096921  https://earthquake.usgs.gov/fdsnws/event/1/que...   \n",
       "20   NaN  NaN  2018286008  https://earthquake.usgs.gov/fdsnws/event/1/que...   \n",
       "\n",
       "       dmin  felt    gap             ids   mag magType  mmi net   nst  \\\n",
       "4   0.07799   NaN  192.0    ,nc73096941,  2.16      md  NaN  nc  18.0   \n",
       "5   0.43730   NaN  158.0  ,pr2018286011,  2.61      md  NaN  pr  10.0   \n",
       "11  0.94770   NaN  186.0  ,pr2018286010,  2.77      md  NaN  pr   7.0   \n",
       "14  0.02641   NaN   71.0    ,nc73096921,  2.13      md  NaN  nc  25.0   \n",
       "20  0.70590   NaN  294.0  ,pr2018286008,  2.82      md  NaN  pr   6.0   \n",
       "\n",
       "                                             place   rms  sig sources  \\\n",
       "4                            10km NW of Avenal, CA  0.05   72    ,nc,   \n",
       "5       55km ESE of Punta Cana, Dominican Republic  0.41  105    ,pr,   \n",
       "11       53km SE of Punta Cana, Dominican Republic  0.53  118    ,pr,   \n",
       "14                        14km NW of Parkfield, CA  0.07   70    ,nc,   \n",
       "20  61km N of Tierras Nuevas Poniente, Puerto Rico  0.37  122    ,pr,   \n",
       "\n",
       "       status           time  \\\n",
       "4   automatic  1539474716050   \n",
       "5    reviewed  1539473686440   \n",
       "11   reviewed  1539471621260   \n",
       "14  automatic  1539470851950   \n",
       "20   reviewed  1539467908560   \n",
       "\n",
       "                                                title  tsunami        type  \\\n",
       "4                       M 2.2 - 10km NW of Avenal, CA        0  earthquake   \n",
       "5   M 2.6 - 55km ESE of Punta Cana, Dominican Repu...        0  earthquake   \n",
       "11  M 2.8 - 53km SE of Punta Cana, Dominican Republic        0  earthquake   \n",
       "14                   M 2.1 - 14km NW of Parkfield, CA        0  earthquake   \n",
       "20  M 2.8 - 61km N of Tierras Nuevas Poniente, Pue...        0  earthquake   \n",
       "\n",
       "                                                types     tz        updated  \\\n",
       "4   ,geoserve,nearby-cities,origin,phase-data,scit... -480.0  1539477547926   \n",
       "5                        ,geoserve,origin,phase-data, -300.0  1539500579236   \n",
       "11                       ,geoserve,origin,phase-data, -300.0  1539500530876   \n",
       "14  ,focal-mechanism,geoserve,nearby-cities,origin... -480.0  1539473045436   \n",
       "20                       ,geoserve,origin,phase-data, -240.0  1539480002872   \n",
       "\n",
       "                                                  url  \n",
       "4   https://earthquake.usgs.gov/earthquakes/eventp...  \n",
       "5   https://earthquake.usgs.gov/earthquakes/eventp...  \n",
       "11  https://earthquake.usgs.gov/earthquakes/eventp...  \n",
       "14  https://earthquake.usgs.gov/earthquakes/eventp...  \n",
       "20  https://earthquake.usgs.gov/earthquakes/eventp...  "
      ],
      "text/html": "<div>\n<style scoped>\n    .dataframe tbody tr th:only-of-type {\n        vertical-align: middle;\n    }\n\n    .dataframe tbody tr th {\n        vertical-align: top;\n    }\n\n    .dataframe thead th {\n        text-align: right;\n    }\n</style>\n<table border=\"1\" class=\"dataframe\">\n  <thead>\n    <tr style=\"text-align: right;\">\n      <th></th>\n      <th>alert</th>\n      <th>cdi</th>\n      <th>code</th>\n      <th>detail</th>\n      <th>dmin</th>\n      <th>felt</th>\n      <th>gap</th>\n      <th>ids</th>\n      <th>mag</th>\n      <th>magType</th>\n      <th>mmi</th>\n      <th>net</th>\n      <th>nst</th>\n      <th>place</th>\n      <th>rms</th>\n      <th>sig</th>\n      <th>sources</th>\n      <th>status</th>\n      <th>time</th>\n      <th>title</th>\n      <th>tsunami</th>\n      <th>type</th>\n      <th>types</th>\n      <th>tz</th>\n      <th>updated</th>\n      <th>url</th>\n    </tr>\n  </thead>\n  <tbody>\n    <tr>\n      <th>4</th>\n      <td>NaN</td>\n      <td>NaN</td>\n      <td>73096941</td>\n      <td>https://earthquake.usgs.gov/fdsnws/event/1/que...</td>\n      <td>0.07799</td>\n      <td>NaN</td>\n      <td>192.0</td>\n      <td>,nc73096941,</td>\n      <td>2.16</td>\n      <td>md</td>\n      <td>NaN</td>\n      <td>nc</td>\n      <td>18.0</td>\n      <td>10km NW of Avenal, CA</td>\n      <td>0.05</td>\n      <td>72</td>\n      <td>,nc,</td>\n      <td>automatic</td>\n      <td>1539474716050</td>\n      <td>M 2.2 - 10km NW of Avenal, CA</td>\n      <td>0</td>\n      <td>earthquake</td>\n      <td>,geoserve,nearby-cities,origin,phase-data,scit...</td>\n      <td>-480.0</td>\n      <td>1539477547926</td>\n      <td>https://earthquake.usgs.gov/earthquakes/eventp...</td>\n    </tr>\n    <tr>\n      <th>5</th>\n      <td>NaN</td>\n      <td>NaN</td>\n      <td>2018286011</td>\n      <td>https://earthquake.usgs.gov/fdsnws/event/1/que...</td>\n      <td>0.43730</td>\n      <td>NaN</td>\n      <td>158.0</td>\n      <td>,pr2018286011,</td>\n      <td>2.61</td>\n      <td>md</td>\n      <td>NaN</td>\n      <td>pr</td>\n      <td>10.0</td>\n      <td>55km ESE of Punta Cana, Dominican Republic</td>\n      <td>0.41</td>\n      <td>105</td>\n      <td>,pr,</td>\n      <td>reviewed</td>\n      <td>1539473686440</td>\n      <td>M 2.6 - 55km ESE of Punta Cana, Dominican Repu...</td>\n      <td>0</td>\n      <td>earthquake</td>\n      <td>,geoserve,origin,phase-data,</td>\n      <td>-300.0</td>\n      <td>1539500579236</td>\n      <td>https://earthquake.usgs.gov/earthquakes/eventp...</td>\n    </tr>\n    <tr>\n      <th>11</th>\n      <td>NaN</td>\n      <td>NaN</td>\n      <td>2018286010</td>\n      <td>https://earthquake.usgs.gov/fdsnws/event/1/que...</td>\n      <td>0.94770</td>\n      <td>NaN</td>\n      <td>186.0</td>\n      <td>,pr2018286010,</td>\n      <td>2.77</td>\n      <td>md</td>\n      <td>NaN</td>\n      <td>pr</td>\n      <td>7.0</td>\n      <td>53km SE of Punta Cana, Dominican Republic</td>\n      <td>0.53</td>\n      <td>118</td>\n      <td>,pr,</td>\n      <td>reviewed</td>\n      <td>1539471621260</td>\n      <td>M 2.8 - 53km SE of Punta Cana, Dominican Republic</td>\n      <td>0</td>\n      <td>earthquake</td>\n      <td>,geoserve,origin,phase-data,</td>\n      <td>-300.0</td>\n      <td>1539500530876</td>\n      <td>https://earthquake.usgs.gov/earthquakes/eventp...</td>\n    </tr>\n    <tr>\n      <th>14</th>\n      <td>NaN</td>\n      <td>NaN</td>\n      <td>73096921</td>\n      <td>https://earthquake.usgs.gov/fdsnws/event/1/que...</td>\n      <td>0.02641</td>\n      <td>NaN</td>\n      <td>71.0</td>\n      <td>,nc73096921,</td>\n      <td>2.13</td>\n      <td>md</td>\n      <td>NaN</td>\n      <td>nc</td>\n      <td>25.0</td>\n      <td>14km NW of Parkfield, CA</td>\n      <td>0.07</td>\n      <td>70</td>\n      <td>,nc,</td>\n      <td>automatic</td>\n      <td>1539470851950</td>\n      <td>M 2.1 - 14km NW of Parkfield, CA</td>\n      <td>0</td>\n      <td>earthquake</td>\n      <td>,focal-mechanism,geoserve,nearby-cities,origin...</td>\n      <td>-480.0</td>\n      <td>1539473045436</td>\n      <td>https://earthquake.usgs.gov/earthquakes/eventp...</td>\n    </tr>\n    <tr>\n      <th>20</th>\n      <td>NaN</td>\n      <td>NaN</td>\n      <td>2018286008</td>\n      <td>https://earthquake.usgs.gov/fdsnws/event/1/que...</td>\n      <td>0.70590</td>\n      <td>NaN</td>\n      <td>294.0</td>\n      <td>,pr2018286008,</td>\n      <td>2.82</td>\n      <td>md</td>\n      <td>NaN</td>\n      <td>pr</td>\n      <td>6.0</td>\n      <td>61km N of Tierras Nuevas Poniente, Puerto Rico</td>\n      <td>0.37</td>\n      <td>122</td>\n      <td>,pr,</td>\n      <td>reviewed</td>\n      <td>1539467908560</td>\n      <td>M 2.8 - 61km N of Tierras Nuevas Poniente, Pue...</td>\n      <td>0</td>\n      <td>earthquake</td>\n      <td>,geoserve,origin,phase-data,</td>\n      <td>-240.0</td>\n      <td>1539480002872</td>\n      <td>https://earthquake.usgs.gov/earthquakes/eventp...</td>\n    </tr>\n  </tbody>\n</table>\n</div>"
     },
     "metadata": {},
     "execution_count": 63
    }
   ],
   "source": [
    "earthquakes[(earthquakes.mag>=2 ) & (earthquakes.magType==\"md\")].head()"
   ]
  },
  {
   "cell_type": "code",
   "execution_count": 64,
   "metadata": {},
   "outputs": [
    {
     "output_type": "execute_result",
     "data": {
      "text/plain": [
       "     alert   mag magType                             place\n",
       "0      NaN  1.35      ml             9km NE of Aguanga, CA\n",
       "1      NaN  1.29      ml             9km NE of Aguanga, CA\n",
       "2      NaN  3.42      ml             8km NE of Aguanga, CA\n",
       "3      NaN  0.44      ml             9km NE of Aguanga, CA\n",
       "4      NaN  2.16      md             10km NW of Avenal, CA\n",
       "...    ...   ...     ...                               ...\n",
       "9327   NaN  0.62      md      9km ENE of Mammoth Lakes, CA\n",
       "9328   NaN  1.00      ml               3km W of Julian, CA\n",
       "9329   NaN  2.40      md  35km NNE of Hatillo, Puerto Rico\n",
       "9330   NaN  1.10      ml             9km NE of Aguanga, CA\n",
       "9331   NaN  0.66      ml             9km NE of Aguanga, CA\n",
       "\n",
       "[9332 rows x 4 columns]"
      ],
      "text/html": "<div>\n<style scoped>\n    .dataframe tbody tr th:only-of-type {\n        vertical-align: middle;\n    }\n\n    .dataframe tbody tr th {\n        vertical-align: top;\n    }\n\n    .dataframe thead th {\n        text-align: right;\n    }\n</style>\n<table border=\"1\" class=\"dataframe\">\n  <thead>\n    <tr style=\"text-align: right;\">\n      <th></th>\n      <th>alert</th>\n      <th>mag</th>\n      <th>magType</th>\n      <th>place</th>\n    </tr>\n  </thead>\n  <tbody>\n    <tr>\n      <th>0</th>\n      <td>NaN</td>\n      <td>1.35</td>\n      <td>ml</td>\n      <td>9km NE of Aguanga, CA</td>\n    </tr>\n    <tr>\n      <th>1</th>\n      <td>NaN</td>\n      <td>1.29</td>\n      <td>ml</td>\n      <td>9km NE of Aguanga, CA</td>\n    </tr>\n    <tr>\n      <th>2</th>\n      <td>NaN</td>\n      <td>3.42</td>\n      <td>ml</td>\n      <td>8km NE of Aguanga, CA</td>\n    </tr>\n    <tr>\n      <th>3</th>\n      <td>NaN</td>\n      <td>0.44</td>\n      <td>ml</td>\n      <td>9km NE of Aguanga, CA</td>\n    </tr>\n    <tr>\n      <th>4</th>\n      <td>NaN</td>\n      <td>2.16</td>\n      <td>md</td>\n      <td>10km NW of Avenal, CA</td>\n    </tr>\n    <tr>\n      <th>...</th>\n      <td>...</td>\n      <td>...</td>\n      <td>...</td>\n      <td>...</td>\n    </tr>\n    <tr>\n      <th>9327</th>\n      <td>NaN</td>\n      <td>0.62</td>\n      <td>md</td>\n      <td>9km ENE of Mammoth Lakes, CA</td>\n    </tr>\n    <tr>\n      <th>9328</th>\n      <td>NaN</td>\n      <td>1.00</td>\n      <td>ml</td>\n      <td>3km W of Julian, CA</td>\n    </tr>\n    <tr>\n      <th>9329</th>\n      <td>NaN</td>\n      <td>2.40</td>\n      <td>md</td>\n      <td>35km NNE of Hatillo, Puerto Rico</td>\n    </tr>\n    <tr>\n      <th>9330</th>\n      <td>NaN</td>\n      <td>1.10</td>\n      <td>ml</td>\n      <td>9km NE of Aguanga, CA</td>\n    </tr>\n    <tr>\n      <th>9331</th>\n      <td>NaN</td>\n      <td>0.66</td>\n      <td>ml</td>\n      <td>9km NE of Aguanga, CA</td>\n    </tr>\n  </tbody>\n</table>\n<p>9332 rows × 4 columns</p>\n</div>"
     },
     "metadata": {},
     "execution_count": 64
    }
   ],
   "source": [
    "earthquakes.filter(items=['alert','mag','magType','place'])"
   ]
  },
  {
   "cell_type": "code",
   "execution_count": 68,
   "metadata": {},
   "outputs": [
    {
     "output_type": "execute_result",
     "data": {
      "text/plain": [
       "       mag magType\n",
       "0     1.35      ml\n",
       "1     1.29      ml\n",
       "2     3.42      ml\n",
       "3     0.44      ml\n",
       "4     2.16      md\n",
       "...    ...     ...\n",
       "9327  0.62      md\n",
       "9328  1.00      ml\n",
       "9329  2.40      md\n",
       "9330  1.10      ml\n",
       "9331  0.66      ml\n",
       "\n",
       "[9332 rows x 2 columns]"
      ],
      "text/html": "<div>\n<style scoped>\n    .dataframe tbody tr th:only-of-type {\n        vertical-align: middle;\n    }\n\n    .dataframe tbody tr th {\n        vertical-align: top;\n    }\n\n    .dataframe thead th {\n        text-align: right;\n    }\n</style>\n<table border=\"1\" class=\"dataframe\">\n  <thead>\n    <tr style=\"text-align: right;\">\n      <th></th>\n      <th>mag</th>\n      <th>magType</th>\n    </tr>\n  </thead>\n  <tbody>\n    <tr>\n      <th>0</th>\n      <td>1.35</td>\n      <td>ml</td>\n    </tr>\n    <tr>\n      <th>1</th>\n      <td>1.29</td>\n      <td>ml</td>\n    </tr>\n    <tr>\n      <th>2</th>\n      <td>3.42</td>\n      <td>ml</td>\n    </tr>\n    <tr>\n      <th>3</th>\n      <td>0.44</td>\n      <td>ml</td>\n    </tr>\n    <tr>\n      <th>4</th>\n      <td>2.16</td>\n      <td>md</td>\n    </tr>\n    <tr>\n      <th>...</th>\n      <td>...</td>\n      <td>...</td>\n    </tr>\n    <tr>\n      <th>9327</th>\n      <td>0.62</td>\n      <td>md</td>\n    </tr>\n    <tr>\n      <th>9328</th>\n      <td>1.00</td>\n      <td>ml</td>\n    </tr>\n    <tr>\n      <th>9329</th>\n      <td>2.40</td>\n      <td>md</td>\n    </tr>\n    <tr>\n      <th>9330</th>\n      <td>1.10</td>\n      <td>ml</td>\n    </tr>\n    <tr>\n      <th>9331</th>\n      <td>0.66</td>\n      <td>ml</td>\n    </tr>\n  </tbody>\n</table>\n<p>9332 rows × 2 columns</p>\n</div>"
     },
     "metadata": {},
     "execution_count": 68
    }
   ],
   "source": [
    "earthquakes.filter(like='mag')"
   ]
  },
  {
   "cell_type": "code",
   "execution_count": 73,
   "metadata": {},
   "outputs": [
    {
     "output_type": "execute_result",
     "data": {
      "text/plain": [
       "   alert        type                                              title  \\\n",
       "0    NaN  earthquake  M 5.0 - 165km NNW of Flying Fish Cove, Christm...   \n",
       "1  green  earthquake            M 6.7 - 262km NW of Ozernovskiy, Russia   \n",
       "2  green  earthquake        M 5.6 - 128km SE of Kimbe, Papua New Guinea   \n",
       "3  green  earthquake         M 6.5 - 148km S of Severo-Kuril'sk, Russia   \n",
       "4  green  earthquake        M 6.2 - 94km SW of Kokopo, Papua New Guinea   \n",
       "\n",
       "                                             place magType  mag           time  \n",
       "0  165km NNW of Flying Fish Cove, Christmas Island     mww  5.0  1539459504090  \n",
       "1                  262km NW of Ozernovskiy, Russia     mww  6.7  1539429023560  \n",
       "2              128km SE of Kimbe, Papua New Guinea     mww  5.6  1539312723620  \n",
       "3               148km S of Severo-Kuril'sk, Russia     mww  6.5  1539213362130  \n",
       "4              94km SW of Kokopo, Papua New Guinea     mww  6.2  1539208835130  "
      ],
      "text/html": "<div>\n<style scoped>\n    .dataframe tbody tr th:only-of-type {\n        vertical-align: middle;\n    }\n\n    .dataframe tbody tr th {\n        vertical-align: top;\n    }\n\n    .dataframe thead th {\n        text-align: right;\n    }\n</style>\n<table border=\"1\" class=\"dataframe\">\n  <thead>\n    <tr style=\"text-align: right;\">\n      <th></th>\n      <th>alert</th>\n      <th>type</th>\n      <th>title</th>\n      <th>place</th>\n      <th>magType</th>\n      <th>mag</th>\n      <th>time</th>\n    </tr>\n  </thead>\n  <tbody>\n    <tr>\n      <th>0</th>\n      <td>NaN</td>\n      <td>earthquake</td>\n      <td>M 5.0 - 165km NNW of Flying Fish Cove, Christm...</td>\n      <td>165km NNW of Flying Fish Cove, Christmas Island</td>\n      <td>mww</td>\n      <td>5.0</td>\n      <td>1539459504090</td>\n    </tr>\n    <tr>\n      <th>1</th>\n      <td>green</td>\n      <td>earthquake</td>\n      <td>M 6.7 - 262km NW of Ozernovskiy, Russia</td>\n      <td>262km NW of Ozernovskiy, Russia</td>\n      <td>mww</td>\n      <td>6.7</td>\n      <td>1539429023560</td>\n    </tr>\n    <tr>\n      <th>2</th>\n      <td>green</td>\n      <td>earthquake</td>\n      <td>M 5.6 - 128km SE of Kimbe, Papua New Guinea</td>\n      <td>128km SE of Kimbe, Papua New Guinea</td>\n      <td>mww</td>\n      <td>5.6</td>\n      <td>1539312723620</td>\n    </tr>\n    <tr>\n      <th>3</th>\n      <td>green</td>\n      <td>earthquake</td>\n      <td>M 6.5 - 148km S of Severo-Kuril'sk, Russia</td>\n      <td>148km S of Severo-Kuril'sk, Russia</td>\n      <td>mww</td>\n      <td>6.5</td>\n      <td>1539213362130</td>\n    </tr>\n    <tr>\n      <th>4</th>\n      <td>green</td>\n      <td>earthquake</td>\n      <td>M 6.2 - 94km SW of Kokopo, Papua New Guinea</td>\n      <td>94km SW of Kokopo, Papua New Guinea</td>\n      <td>mww</td>\n      <td>6.2</td>\n      <td>1539208835130</td>\n    </tr>\n  </tbody>\n</table>\n</div>"
     },
     "metadata": {},
     "execution_count": 73
    }
   ],
   "source": [
    "tsunami =pd.read_csv('data\\\\tsunamis.csv')\n",
    "tsunami.head()"
   ]
  },
  {
   "cell_type": "code",
   "execution_count": 74,
   "metadata": {},
   "outputs": [
    {
     "output_type": "execute_result",
     "data": {
      "text/plain": [
       "Index(['alert', 'type', 'title', 'place', 'magType', 'mag', 'time'], dtype='object')"
      ]
     },
     "metadata": {},
     "execution_count": 74
    }
   ],
   "source": [
    "tsunami.columns"
   ]
  },
  {
   "cell_type": "code",
   "execution_count": 76,
   "metadata": {},
   "outputs": [
    {
     "output_type": "stream",
     "name": "stdout",
     "text": [
      "<class 'pandas.core.frame.DataFrame'>\nRangeIndex: 61 entries, 0 to 60\nData columns (total 7 columns):\n #   Column   Non-Null Count  Dtype  \n---  ------   --------------  -----  \n 0   alert    26 non-null     object \n 1   type     61 non-null     object \n 2   title    61 non-null     object \n 3   place    61 non-null     object \n 4   magType  61 non-null     object \n 5   mag      61 non-null     float64\n 6   time     61 non-null     int64  \ndtypes: float64(1), int64(1), object(5)\nmemory usage: 3.5+ KB\n"
     ]
    }
   ],
   "source": [
    "tsunami.info()"
   ]
  },
  {
   "cell_type": "code",
   "execution_count": 77,
   "metadata": {},
   "outputs": [
    {
     "output_type": "execute_result",
     "data": {
      "text/plain": [
       "earthquake    61\n",
       "Name: type, dtype: int64"
      ]
     },
     "metadata": {},
     "execution_count": 77
    }
   ],
   "source": [
    "tsunami.type.value_counts()"
   ]
  },
  {
   "cell_type": "code",
   "execution_count": 81,
   "metadata": {},
   "outputs": [
    {
     "output_type": "execute_result",
     "data": {
      "text/plain": [
       "     alert  cdi      code                                             detail  \\\n",
       "36     NaN  NaN  1000hbsa  https://earthquake.usgs.gov/fdsnws/event/1/que...   \n",
       "118  green  NaN  1000hbkz  https://earthquake.usgs.gov/fdsnws/event/1/que...   \n",
       "501  green  NaN  1000hax9  https://earthquake.usgs.gov/fdsnws/event/1/que...   \n",
       "799  green  NaN  1000hacw  https://earthquake.usgs.gov/fdsnws/event/1/que...   \n",
       "816  green  NaN  1000habl  https://earthquake.usgs.gov/fdsnws/event/1/que...   \n",
       "\n",
       "      dmin  felt   gap                                 ids  mag magType   mmi  \\\n",
       "36   1.541   NaN  51.0                        ,us1000hbsa,  5.0     mww   NaN   \n",
       "118  2.623   NaN  25.0  ,pt18286001,at00pgjb1a,us1000hbkz,  6.7     mww  3.04   \n",
       "501  2.356   NaN  45.0                        ,us1000hax9,  5.6     mww  4.69   \n",
       "799  3.879   NaN  18.0  ,pt18283004,at00pgeomo,us1000hacw,  6.5     mww  4.26   \n",
       "816  0.907   NaN  12.0                        ,us1000habl,  6.2     mww  4.59   \n",
       "\n",
       "    net  nst                                            place   rms  sig  \\\n",
       "36   us  NaN  165km NNW of Flying Fish Cove, Christmas Island  0.95  385   \n",
       "118  us  NaN                  262km NW of Ozernovskiy, Russia  0.98  691   \n",
       "501  us  NaN              128km SE of Kimbe, Papua New Guinea  1.58  482   \n",
       "799  us  NaN               148km S of Severo-Kuril'sk, Russia  0.91  650   \n",
       "816  us  NaN              94km SW of Kokopo, Papua New Guinea  1.14  591   \n",
       "\n",
       "        sources    status           time  \\\n",
       "36         ,us,  reviewed  1539459504090   \n",
       "118  ,pt,at,us,  reviewed  1539429023560   \n",
       "501        ,us,  reviewed  1539312723620   \n",
       "799  ,pt,at,us,  reviewed  1539213362130   \n",
       "816        ,us,  reviewed  1539208835130   \n",
       "\n",
       "                                                 title  tsunami        type  \\\n",
       "36   M 5.0 - 165km NNW of Flying Fish Cove, Christm...        1  earthquake   \n",
       "118            M 6.7 - 262km NW of Ozernovskiy, Russia        1  earthquake   \n",
       "501        M 5.6 - 128km SE of Kimbe, Papua New Guinea        1  earthquake   \n",
       "799         M 6.5 - 148km S of Severo-Kuril'sk, Russia        1  earthquake   \n",
       "816        M 6.2 - 94km SW of Kokopo, Papua New Guinea        1  earthquake   \n",
       "\n",
       "                                                 types     tz        updated  \\\n",
       "36                        ,geoserve,origin,phase-data,  420.0  1539461285040   \n",
       "118  ,geoserve,ground-failure,impact-link,losspager...  600.0  1539455437040   \n",
       "501  ,geoserve,losspager,moment-tensor,origin,phase...  600.0  1539359431040   \n",
       "799  ,geoserve,ground-failure,impact-link,losspager...  600.0  1539224915040   \n",
       "816  ,geoserve,ground-failure,losspager,moment-tens...  600.0  1539219109963   \n",
       "\n",
       "                                                   url  \n",
       "36   https://earthquake.usgs.gov/earthquakes/eventp...  \n",
       "118  https://earthquake.usgs.gov/earthquakes/eventp...  \n",
       "501  https://earthquake.usgs.gov/earthquakes/eventp...  \n",
       "799  https://earthquake.usgs.gov/earthquakes/eventp...  \n",
       "816  https://earthquake.usgs.gov/earthquakes/eventp...  "
      ],
      "text/html": "<div>\n<style scoped>\n    .dataframe tbody tr th:only-of-type {\n        vertical-align: middle;\n    }\n\n    .dataframe tbody tr th {\n        vertical-align: top;\n    }\n\n    .dataframe thead th {\n        text-align: right;\n    }\n</style>\n<table border=\"1\" class=\"dataframe\">\n  <thead>\n    <tr style=\"text-align: right;\">\n      <th></th>\n      <th>alert</th>\n      <th>cdi</th>\n      <th>code</th>\n      <th>detail</th>\n      <th>dmin</th>\n      <th>felt</th>\n      <th>gap</th>\n      <th>ids</th>\n      <th>mag</th>\n      <th>magType</th>\n      <th>mmi</th>\n      <th>net</th>\n      <th>nst</th>\n      <th>place</th>\n      <th>rms</th>\n      <th>sig</th>\n      <th>sources</th>\n      <th>status</th>\n      <th>time</th>\n      <th>title</th>\n      <th>tsunami</th>\n      <th>type</th>\n      <th>types</th>\n      <th>tz</th>\n      <th>updated</th>\n      <th>url</th>\n    </tr>\n  </thead>\n  <tbody>\n    <tr>\n      <th>36</th>\n      <td>NaN</td>\n      <td>NaN</td>\n      <td>1000hbsa</td>\n      <td>https://earthquake.usgs.gov/fdsnws/event/1/que...</td>\n      <td>1.541</td>\n      <td>NaN</td>\n      <td>51.0</td>\n      <td>,us1000hbsa,</td>\n      <td>5.0</td>\n      <td>mww</td>\n      <td>NaN</td>\n      <td>us</td>\n      <td>NaN</td>\n      <td>165km NNW of Flying Fish Cove, Christmas Island</td>\n      <td>0.95</td>\n      <td>385</td>\n      <td>,us,</td>\n      <td>reviewed</td>\n      <td>1539459504090</td>\n      <td>M 5.0 - 165km NNW of Flying Fish Cove, Christm...</td>\n      <td>1</td>\n      <td>earthquake</td>\n      <td>,geoserve,origin,phase-data,</td>\n      <td>420.0</td>\n      <td>1539461285040</td>\n      <td>https://earthquake.usgs.gov/earthquakes/eventp...</td>\n    </tr>\n    <tr>\n      <th>118</th>\n      <td>green</td>\n      <td>NaN</td>\n      <td>1000hbkz</td>\n      <td>https://earthquake.usgs.gov/fdsnws/event/1/que...</td>\n      <td>2.623</td>\n      <td>NaN</td>\n      <td>25.0</td>\n      <td>,pt18286001,at00pgjb1a,us1000hbkz,</td>\n      <td>6.7</td>\n      <td>mww</td>\n      <td>3.04</td>\n      <td>us</td>\n      <td>NaN</td>\n      <td>262km NW of Ozernovskiy, Russia</td>\n      <td>0.98</td>\n      <td>691</td>\n      <td>,pt,at,us,</td>\n      <td>reviewed</td>\n      <td>1539429023560</td>\n      <td>M 6.7 - 262km NW of Ozernovskiy, Russia</td>\n      <td>1</td>\n      <td>earthquake</td>\n      <td>,geoserve,ground-failure,impact-link,losspager...</td>\n      <td>600.0</td>\n      <td>1539455437040</td>\n      <td>https://earthquake.usgs.gov/earthquakes/eventp...</td>\n    </tr>\n    <tr>\n      <th>501</th>\n      <td>green</td>\n      <td>NaN</td>\n      <td>1000hax9</td>\n      <td>https://earthquake.usgs.gov/fdsnws/event/1/que...</td>\n      <td>2.356</td>\n      <td>NaN</td>\n      <td>45.0</td>\n      <td>,us1000hax9,</td>\n      <td>5.6</td>\n      <td>mww</td>\n      <td>4.69</td>\n      <td>us</td>\n      <td>NaN</td>\n      <td>128km SE of Kimbe, Papua New Guinea</td>\n      <td>1.58</td>\n      <td>482</td>\n      <td>,us,</td>\n      <td>reviewed</td>\n      <td>1539312723620</td>\n      <td>M 5.6 - 128km SE of Kimbe, Papua New Guinea</td>\n      <td>1</td>\n      <td>earthquake</td>\n      <td>,geoserve,losspager,moment-tensor,origin,phase...</td>\n      <td>600.0</td>\n      <td>1539359431040</td>\n      <td>https://earthquake.usgs.gov/earthquakes/eventp...</td>\n    </tr>\n    <tr>\n      <th>799</th>\n      <td>green</td>\n      <td>NaN</td>\n      <td>1000hacw</td>\n      <td>https://earthquake.usgs.gov/fdsnws/event/1/que...</td>\n      <td>3.879</td>\n      <td>NaN</td>\n      <td>18.0</td>\n      <td>,pt18283004,at00pgeomo,us1000hacw,</td>\n      <td>6.5</td>\n      <td>mww</td>\n      <td>4.26</td>\n      <td>us</td>\n      <td>NaN</td>\n      <td>148km S of Severo-Kuril'sk, Russia</td>\n      <td>0.91</td>\n      <td>650</td>\n      <td>,pt,at,us,</td>\n      <td>reviewed</td>\n      <td>1539213362130</td>\n      <td>M 6.5 - 148km S of Severo-Kuril'sk, Russia</td>\n      <td>1</td>\n      <td>earthquake</td>\n      <td>,geoserve,ground-failure,impact-link,losspager...</td>\n      <td>600.0</td>\n      <td>1539224915040</td>\n      <td>https://earthquake.usgs.gov/earthquakes/eventp...</td>\n    </tr>\n    <tr>\n      <th>816</th>\n      <td>green</td>\n      <td>NaN</td>\n      <td>1000habl</td>\n      <td>https://earthquake.usgs.gov/fdsnws/event/1/que...</td>\n      <td>0.907</td>\n      <td>NaN</td>\n      <td>12.0</td>\n      <td>,us1000habl,</td>\n      <td>6.2</td>\n      <td>mww</td>\n      <td>4.59</td>\n      <td>us</td>\n      <td>NaN</td>\n      <td>94km SW of Kokopo, Papua New Guinea</td>\n      <td>1.14</td>\n      <td>591</td>\n      <td>,us,</td>\n      <td>reviewed</td>\n      <td>1539208835130</td>\n      <td>M 6.2 - 94km SW of Kokopo, Papua New Guinea</td>\n      <td>1</td>\n      <td>earthquake</td>\n      <td>,geoserve,ground-failure,losspager,moment-tens...</td>\n      <td>600.0</td>\n      <td>1539219109963</td>\n      <td>https://earthquake.usgs.gov/earthquakes/eventp...</td>\n    </tr>\n  </tbody>\n</table>\n</div>"
     },
     "metadata": {},
     "execution_count": 81
    }
   ],
   "source": [
    "tsunamis = earthquakes[earthquakes.tsunami==1]\n",
    "tsunamis.head()"
   ]
  },
  {
   "cell_type": "code",
   "execution_count": 83,
   "metadata": {},
   "outputs": [
    {
     "output_type": "execute_result",
     "data": {
      "text/plain": [
       "  alert  cdi      code                                             detail  \\\n",
       "0   NaN  NaN  37389218  https://earthquake.usgs.gov/fdsnws/event/1/que...   \n",
       "1   NaN  NaN  37389202  https://earthquake.usgs.gov/fdsnws/event/1/que...   \n",
       "2   NaN  4.4  37389194  https://earthquake.usgs.gov/fdsnws/event/1/que...   \n",
       "3   NaN  NaN  37389186  https://earthquake.usgs.gov/fdsnws/event/1/que...   \n",
       "4   NaN  NaN  73096941  https://earthquake.usgs.gov/fdsnws/event/1/que...   \n",
       "\n",
       "       dmin  felt    gap           ids   mag magType  mmi net    nst  \\\n",
       "0  0.008693   NaN   85.0  ,ci37389218,  1.35      ml  NaN  ci   26.0   \n",
       "1  0.020030   NaN   79.0  ,ci37389202,  1.29      ml  NaN  ci   20.0   \n",
       "2  0.021370  28.0   21.0  ,ci37389194,  3.42      ml  NaN  ci  111.0   \n",
       "3  0.026180   NaN   39.0  ,ci37389186,  0.44      ml  NaN  ci   26.0   \n",
       "4  0.077990   NaN  192.0  ,nc73096941,  2.16      md  NaN  nc   18.0   \n",
       "\n",
       "                   place   rms  sig sources     status           time  \\\n",
       "0  9km NE of Aguanga, CA  0.19   28    ,ci,  automatic  1539475168010   \n",
       "1  9km NE of Aguanga, CA  0.29   26    ,ci,  automatic  1539475129610   \n",
       "2  8km NE of Aguanga, CA  0.22  192    ,ci,  automatic  1539475062610   \n",
       "3  9km NE of Aguanga, CA  0.17    3    ,ci,  automatic  1539474978070   \n",
       "4  10km NW of Avenal, CA  0.05   72    ,nc,  automatic  1539474716050   \n",
       "\n",
       "                           title  tsunami        type  \\\n",
       "0  M 1.4 - 9km NE of Aguanga, CA        0  earthquake   \n",
       "1  M 1.3 - 9km NE of Aguanga, CA        0  earthquake   \n",
       "2  M 3.4 - 8km NE of Aguanga, CA        0  earthquake   \n",
       "3  M 0.4 - 9km NE of Aguanga, CA        0  earthquake   \n",
       "4  M 2.2 - 10km NW of Avenal, CA        0  earthquake   \n",
       "\n",
       "                                               types     tz        updated  \\\n",
       "0         ,geoserve,nearby-cities,origin,phase-data, -480.0  1539475395144   \n",
       "1         ,geoserve,nearby-cities,origin,phase-data, -480.0  1539475253925   \n",
       "2  ,dyfi,focal-mechanism,geoserve,nearby-cities,o... -480.0  1539536756176   \n",
       "3         ,geoserve,nearby-cities,origin,phase-data, -480.0  1539475196167   \n",
       "4  ,geoserve,nearby-cities,origin,phase-data,scit... -480.0  1539477547926   \n",
       "\n",
       "                                                 url  \n",
       "0  https://earthquake.usgs.gov/earthquakes/eventp...  \n",
       "1  https://earthquake.usgs.gov/earthquakes/eventp...  \n",
       "2  https://earthquake.usgs.gov/earthquakes/eventp...  \n",
       "3  https://earthquake.usgs.gov/earthquakes/eventp...  \n",
       "4  https://earthquake.usgs.gov/earthquakes/eventp...  "
      ],
      "text/html": "<div>\n<style scoped>\n    .dataframe tbody tr th:only-of-type {\n        vertical-align: middle;\n    }\n\n    .dataframe tbody tr th {\n        vertical-align: top;\n    }\n\n    .dataframe thead th {\n        text-align: right;\n    }\n</style>\n<table border=\"1\" class=\"dataframe\">\n  <thead>\n    <tr style=\"text-align: right;\">\n      <th></th>\n      <th>alert</th>\n      <th>cdi</th>\n      <th>code</th>\n      <th>detail</th>\n      <th>dmin</th>\n      <th>felt</th>\n      <th>gap</th>\n      <th>ids</th>\n      <th>mag</th>\n      <th>magType</th>\n      <th>mmi</th>\n      <th>net</th>\n      <th>nst</th>\n      <th>place</th>\n      <th>rms</th>\n      <th>sig</th>\n      <th>sources</th>\n      <th>status</th>\n      <th>time</th>\n      <th>title</th>\n      <th>tsunami</th>\n      <th>type</th>\n      <th>types</th>\n      <th>tz</th>\n      <th>updated</th>\n      <th>url</th>\n    </tr>\n  </thead>\n  <tbody>\n    <tr>\n      <th>0</th>\n      <td>NaN</td>\n      <td>NaN</td>\n      <td>37389218</td>\n      <td>https://earthquake.usgs.gov/fdsnws/event/1/que...</td>\n      <td>0.008693</td>\n      <td>NaN</td>\n      <td>85.0</td>\n      <td>,ci37389218,</td>\n      <td>1.35</td>\n      <td>ml</td>\n      <td>NaN</td>\n      <td>ci</td>\n      <td>26.0</td>\n      <td>9km NE of Aguanga, CA</td>\n      <td>0.19</td>\n      <td>28</td>\n      <td>,ci,</td>\n      <td>automatic</td>\n      <td>1539475168010</td>\n      <td>M 1.4 - 9km NE of Aguanga, CA</td>\n      <td>0</td>\n      <td>earthquake</td>\n      <td>,geoserve,nearby-cities,origin,phase-data,</td>\n      <td>-480.0</td>\n      <td>1539475395144</td>\n      <td>https://earthquake.usgs.gov/earthquakes/eventp...</td>\n    </tr>\n    <tr>\n      <th>1</th>\n      <td>NaN</td>\n      <td>NaN</td>\n      <td>37389202</td>\n      <td>https://earthquake.usgs.gov/fdsnws/event/1/que...</td>\n      <td>0.020030</td>\n      <td>NaN</td>\n      <td>79.0</td>\n      <td>,ci37389202,</td>\n      <td>1.29</td>\n      <td>ml</td>\n      <td>NaN</td>\n      <td>ci</td>\n      <td>20.0</td>\n      <td>9km NE of Aguanga, CA</td>\n      <td>0.29</td>\n      <td>26</td>\n      <td>,ci,</td>\n      <td>automatic</td>\n      <td>1539475129610</td>\n      <td>M 1.3 - 9km NE of Aguanga, CA</td>\n      <td>0</td>\n      <td>earthquake</td>\n      <td>,geoserve,nearby-cities,origin,phase-data,</td>\n      <td>-480.0</td>\n      <td>1539475253925</td>\n      <td>https://earthquake.usgs.gov/earthquakes/eventp...</td>\n    </tr>\n    <tr>\n      <th>2</th>\n      <td>NaN</td>\n      <td>4.4</td>\n      <td>37389194</td>\n      <td>https://earthquake.usgs.gov/fdsnws/event/1/que...</td>\n      <td>0.021370</td>\n      <td>28.0</td>\n      <td>21.0</td>\n      <td>,ci37389194,</td>\n      <td>3.42</td>\n      <td>ml</td>\n      <td>NaN</td>\n      <td>ci</td>\n      <td>111.0</td>\n      <td>8km NE of Aguanga, CA</td>\n      <td>0.22</td>\n      <td>192</td>\n      <td>,ci,</td>\n      <td>automatic</td>\n      <td>1539475062610</td>\n      <td>M 3.4 - 8km NE of Aguanga, CA</td>\n      <td>0</td>\n      <td>earthquake</td>\n      <td>,dyfi,focal-mechanism,geoserve,nearby-cities,o...</td>\n      <td>-480.0</td>\n      <td>1539536756176</td>\n      <td>https://earthquake.usgs.gov/earthquakes/eventp...</td>\n    </tr>\n    <tr>\n      <th>3</th>\n      <td>NaN</td>\n      <td>NaN</td>\n      <td>37389186</td>\n      <td>https://earthquake.usgs.gov/fdsnws/event/1/que...</td>\n      <td>0.026180</td>\n      <td>NaN</td>\n      <td>39.0</td>\n      <td>,ci37389186,</td>\n      <td>0.44</td>\n      <td>ml</td>\n      <td>NaN</td>\n      <td>ci</td>\n      <td>26.0</td>\n      <td>9km NE of Aguanga, CA</td>\n      <td>0.17</td>\n      <td>3</td>\n      <td>,ci,</td>\n      <td>automatic</td>\n      <td>1539474978070</td>\n      <td>M 0.4 - 9km NE of Aguanga, CA</td>\n      <td>0</td>\n      <td>earthquake</td>\n      <td>,geoserve,nearby-cities,origin,phase-data,</td>\n      <td>-480.0</td>\n      <td>1539475196167</td>\n      <td>https://earthquake.usgs.gov/earthquakes/eventp...</td>\n    </tr>\n    <tr>\n      <th>4</th>\n      <td>NaN</td>\n      <td>NaN</td>\n      <td>73096941</td>\n      <td>https://earthquake.usgs.gov/fdsnws/event/1/que...</td>\n      <td>0.077990</td>\n      <td>NaN</td>\n      <td>192.0</td>\n      <td>,nc73096941,</td>\n      <td>2.16</td>\n      <td>md</td>\n      <td>NaN</td>\n      <td>nc</td>\n      <td>18.0</td>\n      <td>10km NW of Avenal, CA</td>\n      <td>0.05</td>\n      <td>72</td>\n      <td>,nc,</td>\n      <td>automatic</td>\n      <td>1539474716050</td>\n      <td>M 2.2 - 10km NW of Avenal, CA</td>\n      <td>0</td>\n      <td>earthquake</td>\n      <td>,geoserve,nearby-cities,origin,phase-data,scit...</td>\n      <td>-480.0</td>\n      <td>1539477547926</td>\n      <td>https://earthquake.usgs.gov/earthquakes/eventp...</td>\n    </tr>\n  </tbody>\n</table>\n</div>"
     },
     "metadata": {},
     "execution_count": 83
    }
   ],
   "source": [
    "no_tsunami = earthquakes[earthquakes.tsunami==0]\n",
    "no_tsunami.head()"
   ]
  },
  {
   "cell_type": "code",
   "execution_count": 86,
   "metadata": {},
   "outputs": [
    {
     "output_type": "execute_result",
     "data": {
      "text/plain": [
       "(9332, 26)"
      ]
     },
     "metadata": {},
     "execution_count": 86
    }
   ],
   "source": [
    "new_df = pd.concat([tsunamis,no_tsunami])\n",
    "new_df.shape"
   ]
  },
  {
   "cell_type": "code",
   "execution_count": 87,
   "metadata": {},
   "outputs": [
    {
     "output_type": "execute_result",
     "data": {
      "text/plain": [
       "(9332, 26)"
      ]
     },
     "metadata": {},
     "execution_count": 87
    }
   ],
   "source": [
    "new_df_append = tsunamis.append(no_tsunami)\n",
    "new_df_append.shape"
   ]
  }
 ]
}